{
 "cells": [
  {
   "cell_type": "code",
   "execution_count": 2,
   "id": "27cf3fd5-791d-43de-af06-2b77a1e2d382",
   "metadata": {},
   "outputs": [],
   "source": [
    "name = 'Rahul'"
   ]
  },
  {
   "cell_type": "code",
   "execution_count": 4,
   "id": "771be247-469c-4513-b1a6-66c25a2672ff",
   "metadata": {},
   "outputs": [
    {
     "data": {
      "text/plain": [
       "'Rahul'"
      ]
     },
     "execution_count": 4,
     "metadata": {},
     "output_type": "execute_result"
    }
   ],
   "source": [
    "name"
   ]
  },
  {
   "cell_type": "code",
   "execution_count": 6,
   "id": "b7b3414c-8777-4b82-944c-201e702b25ea",
   "metadata": {},
   "outputs": [],
   "source": [
    "name= 'Krishna'"
   ]
  },
  {
   "cell_type": "code",
   "execution_count": 8,
   "id": "68d488bd-6388-4dc8-8588-ba0418661d76",
   "metadata": {},
   "outputs": [
    {
     "data": {
      "text/plain": [
       "'Krishna'"
      ]
     },
     "execution_count": 8,
     "metadata": {},
     "output_type": "execute_result"
    }
   ],
   "source": [
    "name"
   ]
  },
  {
   "cell_type": "markdown",
   "id": "5d274c50-045b-4403-b44f-98ed477c2958",
   "metadata": {},
   "source": [
    "syntex is variable \n",
    "name is variable \n",
    "  'Rahul' is object / data"
   ]
  },
  {
   "cell_type": "code",
   "execution_count": 16,
   "id": "af529b0a-cf06-4208-a670-cfc2cea4b361",
   "metadata": {},
   "outputs": [],
   "source": [
    "age = 22"
   ]
  },
  {
   "cell_type": "code",
   "execution_count": 18,
   "id": "c8da76a8-50ab-475e-856e-1aed39e485fd",
   "metadata": {},
   "outputs": [
    {
     "data": {
      "text/plain": [
       "22"
      ]
     },
     "execution_count": 18,
     "metadata": {},
     "output_type": "execute_result"
    }
   ],
   "source": [
    "age"
   ]
  },
  {
   "cell_type": "markdown",
   "id": "e2a35ad6-8949-49e2-8d4c-6e849de221b1",
   "metadata": {},
   "source": [
    "what is variable ?\n",
    "> Variable is used to store data set in python.\n",
    "> we cant assign any special case or number."
   ]
  },
  {
   "cell_type": "markdown",
   "id": "71f4e94d-9a6b-4ffe-a07d-e1ddd001f132",
   "metadata": {},
   "source": [
    "# Operators"
   ]
  },
  {
   "cell_type": "markdown",
   "id": "ce1b74b5-3d2c-47b6-8182-c38f379abde6",
   "metadata": {},
   "source": [
    "1.Arithematic operator\n",
    "+ - * / %"
   ]
  },
  {
   "cell_type": "code",
   "execution_count": 25,
   "id": "e11c7828-b7ac-4613-8c48-76ded7ead84a",
   "metadata": {},
   "outputs": [
    {
     "data": {
      "text/plain": [
       "0"
      ]
     },
     "execution_count": 25,
     "metadata": {},
     "output_type": "execute_result"
    }
   ],
   "source": [
    "10 % 2"
   ]
  },
  {
   "cell_type": "code",
   "execution_count": 27,
   "id": "190f9500-f8f3-4881-90d9-73983f33c74f",
   "metadata": {},
   "outputs": [
    {
     "data": {
      "text/plain": [
       "1"
      ]
     },
     "execution_count": 27,
     "metadata": {},
     "output_type": "execute_result"
    }
   ],
   "source": [
    "9 % 2"
   ]
  },
  {
   "cell_type": "markdown",
   "id": "2f107e48-ff84-4810-a97b-5776ea212bed",
   "metadata": {},
   "source": [
    "2.Relational operator. \n",
    "\n",
    "< > >= <= == !="
   ]
  },
  {
   "cell_type": "code",
   "execution_count": 33,
   "id": "5e6caf7c-1dba-4fec-bd05-844eeb15aba3",
   "metadata": {},
   "outputs": [
    {
     "data": {
      "text/plain": [
       "True"
      ]
     },
     "execution_count": 33,
     "metadata": {},
     "output_type": "execute_result"
    }
   ],
   "source": [
    "10 < 20"
   ]
  },
  {
   "cell_type": "code",
   "execution_count": 37,
   "id": "f805e2f5-01e3-4d31-9862-064ca6e8458e",
   "metadata": {},
   "outputs": [
    {
     "data": {
      "text/plain": [
       "False"
      ]
     },
     "execution_count": 37,
     "metadata": {},
     "output_type": "execute_result"
    }
   ],
   "source": [
    "50 < 20"
   ]
  },
  {
   "cell_type": "code",
   "execution_count": 39,
   "id": "121484bb-7da5-4360-a233-8b669a51ad3d",
   "metadata": {},
   "outputs": [
    {
     "data": {
      "text/plain": [
       "True"
      ]
     },
     "execution_count": 39,
     "metadata": {},
     "output_type": "execute_result"
    }
   ],
   "source": [
    "10 == 10"
   ]
  },
  {
   "cell_type": "markdown",
   "id": "45994dba-1505-4825-922b-bc6847739041",
   "metadata": {},
   "source": [
    "3.Logical operator\n",
    "\n",
    "True or False\n"
   ]
  },
  {
   "cell_type": "code",
   "execution_count": 48,
   "id": "17d7290e-e7a0-49b2-a48a-726c768744d6",
   "metadata": {},
   "outputs": [
    {
     "data": {
      "text/plain": [
       "False"
      ]
     },
     "execution_count": 48,
     "metadata": {},
     "output_type": "execute_result"
    }
   ],
   "source": [
    "10 > 20 and 30 > 40"
   ]
  },
  {
   "cell_type": "markdown",
   "id": "766bac73-655e-4365-b568-519a8138b769",
   "metadata": {},
   "source": [
    "4.Power value"
   ]
  },
  {
   "cell_type": "code",
   "execution_count": 51,
   "id": "d7805d25-9c43-4e9c-8056-0abcd7b995e6",
   "metadata": {},
   "outputs": [
    {
     "data": {
      "text/plain": [
       "4"
      ]
     },
     "execution_count": 51,
     "metadata": {},
     "output_type": "execute_result"
    }
   ],
   "source": [
    "2**2"
   ]
  },
  {
   "cell_type": "code",
   "execution_count": 53,
   "id": "45f8505a-3445-4b75-8a45-1a0f51146831",
   "metadata": {},
   "outputs": [
    {
     "data": {
      "text/plain": [
       "46656"
      ]
     },
     "execution_count": 53,
     "metadata": {},
     "output_type": "execute_result"
    }
   ],
   "source": [
    "6**6"
   ]
  },
  {
   "cell_type": "code",
   "execution_count": null,
   "id": "a3a4d806-47b3-4451-8bfe-8b6513d7a29b",
   "metadata": {},
   "outputs": [],
   "source": []
  }
 ],
 "metadata": {
  "kernelspec": {
   "display_name": "Python 3 (ipykernel)",
   "language": "python",
   "name": "python3"
  },
  "language_info": {
   "codemirror_mode": {
    "name": "ipython",
    "version": 3
   },
   "file_extension": ".py",
   "mimetype": "text/x-python",
   "name": "python",
   "nbconvert_exporter": "python",
   "pygments_lexer": "ipython3",
   "version": "3.12.7"
  }
 },
 "nbformat": 4,
 "nbformat_minor": 5
}
