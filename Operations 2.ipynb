{
 "cells": [
  {
   "cell_type": "markdown",
   "id": "c9a81ce1-b9cd-438a-9884-55c5b030f5b2",
   "metadata": {},
   "source": [
    "# Operations 2"
   ]
  },
  {
   "cell_type": "code",
   "execution_count": 2,
   "id": "66a88217-9b46-40a1-8d37-f6f86deab152",
   "metadata": {},
   "outputs": [
    {
     "name": "stdin",
     "output_type": "stream",
     "text": [
      "enter your name Rahul\n"
     ]
    },
    {
     "name": "stdout",
     "output_type": "stream",
     "text": [
      "Your name is:Rahul\n"
     ]
    }
   ],
   "source": [
    "name = input('enter your name')\n",
    "print('Your name is:' + name)"
   ]
  },
  {
   "cell_type": "code",
   "execution_count": 4,
   "id": "3b85fea5-e619-4651-8274-f5c46e26fab6",
   "metadata": {},
   "outputs": [
    {
     "name": "stdin",
     "output_type": "stream",
     "text": [
      "enter your age 22\n"
     ]
    },
    {
     "name": "stdout",
     "output_type": "stream",
     "text": [
      "your age is:22\n"
     ]
    }
   ],
   "source": [
    "age = input('enter your age')\n",
    "print ('your age is:' + age)"
   ]
  },
  {
   "cell_type": "code",
   "execution_count": 7,
   "id": "75c9853d-28ec-4d13-aff3-1cea60b62d35",
   "metadata": {},
   "outputs": [
    {
     "name": "stdin",
     "output_type": "stream",
     "text": [
      " rahul\n",
      " velekar\n"
     ]
    },
    {
     "name": "stdout",
     "output_type": "stream",
     "text": [
      "your full name israhulvelekar\n"
     ]
    }
   ],
   "source": [
    "first_name = input()\n",
    "last_name = input()\n",
    "print('your full name is' + first_name + last_name)"
   ]
  },
  {
   "cell_type": "code",
   "execution_count": null,
   "id": "cc6ab582-3854-4b01-99dd-3b00eccc8c0a",
   "metadata": {},
   "outputs": [],
   "source": [
    " "
   ]
  }
 ],
 "metadata": {
  "kernelspec": {
   "display_name": "Python 3 (ipykernel)",
   "language": "python",
   "name": "python3"
  },
  "language_info": {
   "codemirror_mode": {
    "name": "ipython",
    "version": 3
   },
   "file_extension": ".py",
   "mimetype": "text/x-python",
   "name": "python",
   "nbconvert_exporter": "python",
   "pygments_lexer": "ipython3",
   "version": "3.12.7"
  }
 },
 "nbformat": 4,
 "nbformat_minor": 5
}
