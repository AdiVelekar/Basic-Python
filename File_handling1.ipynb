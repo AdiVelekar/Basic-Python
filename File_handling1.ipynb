{
 "cells": [
  {
   "cell_type": "raw",
   "id": "e70a49a1-1597-435f-a6b6-c2ab7e160c6b",
   "metadata": {},
   "source": [
    "# file types\n",
    "1..txt\n",
    "2.ipynb = extension of jupyter notebook\n",
    "3.py = python\n",
    "4.mp3 = audio\n",
    "5.mp4 = video"
   ]
  },
  {
   "cell_type": "code",
   "execution_count": 2,
   "id": "631791c0-4cf7-4572-a74c-1be9ae92be9e",
   "metadata": {},
   "outputs": [
    {
     "name": "stdout",
     "output_type": "stream",
     "text": [
      " Volume in drive C is OS\n",
      " Volume Serial Number is EEB8-F085\n",
      "\n",
      " Directory of C:\\Users\\Rahul\\Python\\Basic python\n",
      "\n",
      "29-12-2024  14:39    <DIR>          .\n",
      "28-11-2024  20:23    <DIR>          ..\n",
      "29-12-2024  14:39    <DIR>          .ipynb_checkpoints\n",
      "01-12-2024  13:47             5,573 Data operation.ipynb\n",
      "01-12-2024  17:26             7,602 Data types.ipynb\n",
      "29-12-2024  14:39               890 File_handling1.ipynb\n",
      "26-12-2024  15:23             7,429 For_loop.ipynb\n",
      "26-12-2024  16:49             8,226 function_1.ipynb\n",
      "26-12-2024  17:32            10,142 function_2.ipynb\n",
      "29-12-2024  14:30             6,493 Function_3.ipynb\n",
      "29-12-2024  14:07             9,253 function_4.ipynb\n",
      "05-12-2024  19:46             2,991 If_elif_else.ipynb\n",
      "05-12-2024  19:19             2,848 If_else.ipynb\n",
      "02-12-2024  13:19             7,176 List funcations.ipynb\n",
      "01-12-2024  17:04             5,290 List.ipynb\n",
      "01-12-2024  18:27             9,235 List2.ipynb\n",
      "01-12-2024  16:52             2,260 Operations 2.ipynb\n",
      "05-12-2024  18:54            19,817 set.ipynb\n",
      "28-11-2024  20:45             6,297 Syntex.ipynb\n",
      "04-12-2024  21:54            13,341 Tuple.ipynb\n",
      "26-12-2024  17:32               337 Untitled.ipynb\n",
      "26-12-2024  16:08             8,297 while loop.ipynb\n",
      "              19 File(s)        133,497 bytes\n",
      "               3 Dir(s)  338,749,849,600 bytes free\n"
     ]
    }
   ],
   "source": [
    "ls"
   ]
  },
  {
   "cell_type": "markdown",
   "id": "71325ee6-1404-4938-9e93-bc0bd97538d0",
   "metadata": {},
   "source": [
    "# creating Files"
   ]
  },
  {
   "cell_type": "code",
   "execution_count": 5,
   "id": "4c27a447-6a82-4e53-a6a6-2d8480f2df63",
   "metadata": {},
   "outputs": [],
   "source": [
    "f = open('example.txt',mode = 'w')"
   ]
  },
  {
   "cell_type": "code",
   "execution_count": 7,
   "id": "f26e06f1-4a66-4ab2-bbef-25d9f7d4c78b",
   "metadata": {},
   "outputs": [
    {
     "data": {
      "text/plain": [
       "21"
      ]
     },
     "execution_count": 7,
     "metadata": {},
     "output_type": "execute_result"
    }
   ],
   "source": [
    "f.write('this is example file.')"
   ]
  },
  {
   "cell_type": "code",
   "execution_count": 9,
   "id": "8ae12e86-7e5b-4806-8f1d-479df7d6b732",
   "metadata": {},
   "outputs": [],
   "source": [
    "f.close()"
   ]
  },
  {
   "cell_type": "code",
   "execution_count": 11,
   "id": "1809ea7a-f0ad-48f4-9218-7193cf41cb0b",
   "metadata": {},
   "outputs": [],
   "source": [
    "f = open('example.txt',mode = 'r')"
   ]
  },
  {
   "cell_type": "code",
   "execution_count": 13,
   "id": "fc2af21a-7dc3-49d2-86e9-83bdd404273a",
   "metadata": {},
   "outputs": [
    {
     "data": {
      "text/plain": [
       "'this is example file.'"
      ]
     },
     "execution_count": 13,
     "metadata": {},
     "output_type": "execute_result"
    }
   ],
   "source": [
    "f.read()"
   ]
  },
  {
   "cell_type": "code",
   "execution_count": 15,
   "id": "9f429e09-271e-4dfc-8a0a-1d00faa1b4a8",
   "metadata": {},
   "outputs": [],
   "source": [
    "f.close()"
   ]
  },
  {
   "cell_type": "code",
   "execution_count": null,
   "id": "f27dcac2-a9ff-4ceb-94ff-c0a1ea4b7705",
   "metadata": {},
   "outputs": [],
   "source": []
  }
 ],
 "metadata": {
  "kernelspec": {
   "display_name": "Python 3 (ipykernel)",
   "language": "python",
   "name": "python3"
  },
  "language_info": {
   "codemirror_mode": {
    "name": "ipython",
    "version": 3
   },
   "file_extension": ".py",
   "mimetype": "text/x-python",
   "name": "python",
   "nbconvert_exporter": "python",
   "pygments_lexer": "ipython3",
   "version": "3.12.7"
  }
 },
 "nbformat": 4,
 "nbformat_minor": 5
}
