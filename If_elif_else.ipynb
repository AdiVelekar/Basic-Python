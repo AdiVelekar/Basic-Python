{
 "cells": [
  {
   "cell_type": "code",
   "execution_count": 4,
   "id": "2a78dfbc-923b-430b-bd0e-69c925e11d47",
   "metadata": {},
   "outputs": [
    {
     "name": "stdin",
     "output_type": "stream",
     "text": [
      "your marks 85\n"
     ]
    },
    {
     "name": "stdout",
     "output_type": "stream",
     "text": [
      "B\n"
     ]
    }
   ],
   "source": [
    "marks = int(input('your marks'))\n",
    "\n",
    "if marks > 95:\n",
    "    print('A+')\n",
    "elif marks > 70:\n",
    "    print('B')\n",
    "elif marks > 50:\n",
    "    print('C')\n",
    "elif marks > 35:\n",
    "    print('pass')\n",
    "else:\n",
    "    print('fail')"
   ]
  },
  {
   "cell_type": "code",
   "execution_count": 16,
   "id": "8a9984e9-0d6e-4215-b11c-4a6ddb4f6d50",
   "metadata": {},
   "outputs": [
    {
     "name": "stdin",
     "output_type": "stream",
     "text": [
      "your marks 140\n"
     ]
    },
    {
     "name": "stdout",
     "output_type": "stream",
     "text": [
      "write marks between 0-100 range\n"
     ]
    }
   ],
   "source": [
    "marks = int(input('your marks'))\n",
    "\n",
    "if marks > 95 and marks <=100 :\n",
    "    print('A+')\n",
    "elif marks > 70 and marks <= 95:\n",
    "    print('B')\n",
    "elif marks > 50 and marks <= 70:\n",
    "    print('C')\n",
    "elif marks > 35 and marks <= 50:\n",
    "    print ('pass')\n",
    "elif marks >= 0 and marks <= 35:\n",
    "    print ('fail')\n",
    "else:\n",
    "     print('write marks between 0-100 range')"
   ]
  },
  {
   "cell_type": "code",
   "execution_count": 18,
   "id": "c2c13cb2-ff1c-4e05-8823-8c30c2bcba41",
   "metadata": {},
   "outputs": [
    {
     "name": "stdin",
     "output_type": "stream",
     "text": [
      "your marks 94\n"
     ]
    },
    {
     "name": "stdout",
     "output_type": "stream",
     "text": [
      "B\n"
     ]
    }
   ],
   "source": [
    "marks = int(input('your marks'))\n",
    "\n",
    "if marks > 95 and marks <=100 :\n",
    "    print('A+')\n",
    "elif marks > 70 and marks <= 95:\n",
    "    print('B')\n",
    "elif marks > 50 and marks <= 70:\n",
    "    print('C')\n",
    "elif marks > 35 and marks <= 50:\n",
    "    print ('pass')\n",
    "elif marks >= 0 and marks <= 35:\n",
    "    print ('fail')\n",
    "else:\n",
    "     print('write marks between 0-100 range')"
   ]
  },
  {
   "cell_type": "code",
   "execution_count": null,
   "id": "e6a5240a-9cc6-4b0c-94bf-fbfe3be6a63b",
   "metadata": {},
   "outputs": [],
   "source": []
  }
 ],
 "metadata": {
  "kernelspec": {
   "display_name": "Python 3 (ipykernel)",
   "language": "python",
   "name": "python3"
  },
  "language_info": {
   "codemirror_mode": {
    "name": "ipython",
    "version": 3
   },
   "file_extension": ".py",
   "mimetype": "text/x-python",
   "name": "python",
   "nbconvert_exporter": "python",
   "pygments_lexer": "ipython3",
   "version": "3.12.7"
  }
 },
 "nbformat": 4,
 "nbformat_minor": 5
}
