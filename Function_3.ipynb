{
 "cells": [
  {
   "cell_type": "code",
   "execution_count": 2,
   "id": "b96b07e3-1b94-4e28-98e9-8e27cfa8350a",
   "metadata": {},
   "outputs": [],
   "source": [
    "# find out int type of data from multiple arguments"
   ]
  },
  {
   "cell_type": "code",
   "execution_count": 4,
   "id": "0dde33ef-0ac2-46ce-9101-2bebd71fb001",
   "metadata": {},
   "outputs": [],
   "source": [
    "def int_filter(*args):\n",
    "    l=[]\n",
    "    for i in args:\n",
    "        if type(i) == int:\n",
    "            l.append(i)\n",
    "    return l"
   ]
  },
  {
   "cell_type": "code",
   "execution_count": 6,
   "id": "67f50f18-e81d-42dd-8448-116e469a3b29",
   "metadata": {},
   "outputs": [
    {
     "data": {
      "text/plain": [
       "[1, 2]"
      ]
     },
     "execution_count": 6,
     "metadata": {},
     "output_type": "execute_result"
    }
   ],
   "source": [
    "int_filter(1,2,4.5,True,10.5,'hello',10+5j)"
   ]
  },
  {
   "cell_type": "code",
   "execution_count": 8,
   "id": "db07643d-ce93-4328-8e51-c13ce06fa2af",
   "metadata": {},
   "outputs": [],
   "source": [
    "def test (a,*args):  # args = unlimited values\n",
    "    return a,args"
   ]
  },
  {
   "cell_type": "code",
   "execution_count": 10,
   "id": "6c186ce5-ff17-4cd9-8b94-9da26d69f6a5",
   "metadata": {},
   "outputs": [
    {
     "data": {
      "text/plain": [
       "(100, (1, 2, 3, 4, 5, 6, 7, 8, 9))"
      ]
     },
     "execution_count": 10,
     "metadata": {},
     "output_type": "execute_result"
    }
   ],
   "source": [
    "test(100,1,2,3,4,5,6,7,8,9)"
   ]
  },
  {
   "cell_type": "code",
   "execution_count": 12,
   "id": "a30b7a73-463c-49c7-a200-4d2ef01228b0",
   "metadata": {},
   "outputs": [],
   "source": [
    "def test2(x,y,*args):\n",
    "    return x,y,args"
   ]
  },
  {
   "cell_type": "code",
   "execution_count": 14,
   "id": "e52951da-9843-427b-b4d2-9d187e277890",
   "metadata": {},
   "outputs": [
    {
     "data": {
      "text/plain": [
       "(1, 2, (3, 4, 5, 6, 7, 8, 9, 10))"
      ]
     },
     "execution_count": 14,
     "metadata": {},
     "output_type": "execute_result"
    }
   ],
   "source": [
    "test2(1,2,3,4,5,6,7,8,9,10)"
   ]
  },
  {
   "cell_type": "code",
   "execution_count": 16,
   "id": "9cc97f90-dab5-498e-aa87-91cc5b4531f3",
   "metadata": {},
   "outputs": [],
   "source": [
    "# find out list type of data from args"
   ]
  },
  {
   "cell_type": "code",
   "execution_count": 18,
   "id": "bc4ad330-4352-48c9-94c1-1b04e93054c4",
   "metadata": {},
   "outputs": [],
   "source": [
    "def list_filter(*args):\n",
    "    l=[]\n",
    "    for i in args:\n",
    "        if type(i) == list:\n",
    "            l.append(i)\n",
    "    return l"
   ]
  },
  {
   "cell_type": "code",
   "execution_count": 20,
   "id": "de843b09-0b81-4033-b665-c45054064f4a",
   "metadata": {},
   "outputs": [
    {
     "data": {
      "text/plain": [
       "[[10, 20, 30]]"
      ]
     },
     "execution_count": 20,
     "metadata": {},
     "output_type": "execute_result"
    }
   ],
   "source": [
    "list_filter(1,1.5,'heelo',[10,20,30],(1,2,3))"
   ]
  },
  {
   "cell_type": "code",
   "execution_count": 22,
   "id": "e7a7f4d6-3edc-42da-b556-747ab3ab7cf0",
   "metadata": {},
   "outputs": [],
   "source": [
    "# dictionary \n",
    "#kwargs"
   ]
  },
  {
   "cell_type": "code",
   "execution_count": 24,
   "id": "97e8f348-69e5-44b5-8bdc-408e0cd54fe6",
   "metadata": {},
   "outputs": [],
   "source": [
    "def test3(**kwargs):\n",
    "    return kwargs"
   ]
  },
  {
   "cell_type": "code",
   "execution_count": 26,
   "id": "8420217a-2e0a-47e0-b529-cb1ac5d484f6",
   "metadata": {},
   "outputs": [
    {
     "data": {
      "text/plain": [
       "{'a': 5, 'b': 10, 'c': 34}"
      ]
     },
     "execution_count": 26,
     "metadata": {},
     "output_type": "execute_result"
    }
   ],
   "source": [
    "test3(a=5,b=10,c=34)"
   ]
  },
  {
   "cell_type": "code",
   "execution_count": 28,
   "id": "c395036d-5a1d-496e-953a-31228bb7fd2f",
   "metadata": {},
   "outputs": [
    {
     "data": {
      "text/plain": [
       "{'name': 'Rahul', 'city': 'pune', 'age': 22}"
      ]
     },
     "execution_count": 28,
     "metadata": {},
     "output_type": "execute_result"
    }
   ],
   "source": [
    "test3(name='Rahul',city='pune',age=22)"
   ]
  },
  {
   "cell_type": "code",
   "execution_count": 30,
   "id": "1b6dcd3b-a415-47d4-9a3a-ccc7926c4141",
   "metadata": {},
   "outputs": [],
   "source": [
    "# comination of args and kwargs "
   ]
  },
  {
   "cell_type": "code",
   "execution_count": 34,
   "id": "403522ca-c831-411a-9c35-4f896189f916",
   "metadata": {},
   "outputs": [],
   "source": [
    "def test4(*args,**kwargs):\n",
    "   return args,kwargs"
   ]
  },
  {
   "cell_type": "code",
   "execution_count": 36,
   "id": "6ca8d862-2e12-4ab8-a253-beb2df667c6f",
   "metadata": {},
   "outputs": [
    {
     "data": {
      "text/plain": [
       "((1, 2, 3, 4, 5, 32, 5, 4, 5), {'a': 10, 'b': 20, 'c': 30})"
      ]
     },
     "execution_count": 36,
     "metadata": {},
     "output_type": "execute_result"
    }
   ],
   "source": [
    "test4(1,2,3,4,5,32,5,4,5,a=10,b=20,c=30)"
   ]
  },
  {
   "cell_type": "code",
   "execution_count": 38,
   "id": "e41150a5-72e2-478d-8fe9-811fb9174f65",
   "metadata": {},
   "outputs": [],
   "source": [
    "def test5(a,*args,**kwargs):\n",
    "    return a,args,kwargs"
   ]
  },
  {
   "cell_type": "code",
   "execution_count": 42,
   "id": "777e3270-970f-4883-932e-23492afaee4a",
   "metadata": {},
   "outputs": [
    {
     "data": {
      "text/plain": [
       "(1, (2, 3, 4, 5), {'k': 10, 'm': 20, 'n': 30})"
      ]
     },
     "execution_count": 42,
     "metadata": {},
     "output_type": "execute_result"
    }
   ],
   "source": [
    "test5(1,2,3,4,5,k=10,m=20,n=30)"
   ]
  },
  {
   "cell_type": "code",
   "execution_count": null,
   "id": "ba37c028-1fb8-475b-ba44-1691ab429a82",
   "metadata": {},
   "outputs": [],
   "source": []
  }
 ],
 "metadata": {
  "kernelspec": {
   "display_name": "Python 3 (ipykernel)",
   "language": "python",
   "name": "python3"
  },
  "language_info": {
   "codemirror_mode": {
    "name": "ipython",
    "version": 3
   },
   "file_extension": ".py",
   "mimetype": "text/x-python",
   "name": "python",
   "nbconvert_exporter": "python",
   "pygments_lexer": "ipython3",
   "version": "3.12.7"
  }
 },
 "nbformat": 4,
 "nbformat_minor": 5
}
