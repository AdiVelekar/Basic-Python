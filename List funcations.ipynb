{
 "cells": [
  {
   "cell_type": "markdown",
   "id": "77595d97-41c7-40cf-8062-00ebb3ac698e",
   "metadata": {},
   "source": [
    "# List Funcations"
   ]
  },
  {
   "cell_type": "code",
   "execution_count": 5,
   "id": "ae2b8e59-af54-4f94-9e2f-c0e693801f0c",
   "metadata": {},
   "outputs": [],
   "source": [
    "l=[1,2,3,4,5]"
   ]
  },
  {
   "cell_type": "code",
   "execution_count": 7,
   "id": "085327b5-14d5-417f-b82c-93c8ac6078d7",
   "metadata": {},
   "outputs": [],
   "source": [
    "# change list 2-> 200"
   ]
  },
  {
   "cell_type": "code",
   "execution_count": 9,
   "id": "fdccc2e7-869a-4916-97a2-1af4376eeb8d",
   "metadata": {},
   "outputs": [
    {
     "data": {
      "text/plain": [
       "2"
      ]
     },
     "execution_count": 9,
     "metadata": {},
     "output_type": "execute_result"
    }
   ],
   "source": [
    "l[1]"
   ]
  },
  {
   "cell_type": "code",
   "execution_count": 11,
   "id": "271940ba-a7e7-4acf-bf80-6482b0eb6270",
   "metadata": {},
   "outputs": [],
   "source": [
    "l[1]=200"
   ]
  },
  {
   "cell_type": "code",
   "execution_count": 13,
   "id": "b645b37e-9ee5-4a3d-bae2-61fbec47a0f2",
   "metadata": {},
   "outputs": [
    {
     "data": {
      "text/plain": [
       "[1, 200, 3, 4, 5]"
      ]
     },
     "execution_count": 13,
     "metadata": {},
     "output_type": "execute_result"
    }
   ],
   "source": [
    "l"
   ]
  },
  {
   "cell_type": "code",
   "execution_count": 15,
   "id": "7f1926a8-3a28-48b8-b35f-26b81cb8f5ea",
   "metadata": {},
   "outputs": [],
   "source": [
    "names=['om','sham','ramesh','suresh']"
   ]
  },
  {
   "cell_type": "code",
   "execution_count": 17,
   "id": "ea0e94ea-f3ba-4685-9ed1-ee3587a96b93",
   "metadata": {},
   "outputs": [
    {
     "data": {
      "text/plain": [
       "['om', 'sham', 'ramesh', 'suresh']"
      ]
     },
     "execution_count": 17,
     "metadata": {},
     "output_type": "execute_result"
    }
   ],
   "source": [
    "names"
   ]
  },
  {
   "cell_type": "code",
   "execution_count": 19,
   "id": "994f5280-5643-4994-a88e-310e42d4b805",
   "metadata": {},
   "outputs": [],
   "source": [
    "names[2]='ganesh'  # imp"
   ]
  },
  {
   "cell_type": "code",
   "execution_count": 21,
   "id": "e7709f1a-c32f-48c3-a05d-be85ee2feb58",
   "metadata": {},
   "outputs": [
    {
     "data": {
      "text/plain": [
       "['om', 'sham', 'ganesh', 'suresh']"
      ]
     },
     "execution_count": 21,
     "metadata": {},
     "output_type": "execute_result"
    }
   ],
   "source": [
    "names"
   ]
  },
  {
   "cell_type": "code",
   "execution_count": 23,
   "id": "aa703c9f-1df5-474f-a7ea-5eeb6ba2ab98",
   "metadata": {},
   "outputs": [],
   "source": [
    "# nested list --> list inside list"
   ]
  },
  {
   "cell_type": "code",
   "execution_count": 25,
   "id": "eda4e2a2-6648-4f84-812d-67665493f4d9",
   "metadata": {},
   "outputs": [],
   "source": [
    "d=[1,2,3,4,[10,20,30,40],5,6]"
   ]
  },
  {
   "cell_type": "code",
   "execution_count": 27,
   "id": "8bdd977b-2403-4cca-9631-825db36824b2",
   "metadata": {},
   "outputs": [
    {
     "data": {
      "text/plain": [
       "1"
      ]
     },
     "execution_count": 27,
     "metadata": {},
     "output_type": "execute_result"
    }
   ],
   "source": [
    "d[0]"
   ]
  },
  {
   "cell_type": "code",
   "execution_count": 29,
   "id": "9cacf416-57fc-4fb7-b937-01de747d9185",
   "metadata": {},
   "outputs": [
    {
     "data": {
      "text/plain": [
       "[10, 20, 30, 40]"
      ]
     },
     "execution_count": 29,
     "metadata": {},
     "output_type": "execute_result"
    }
   ],
   "source": [
    "d[4]"
   ]
  },
  {
   "cell_type": "code",
   "execution_count": 31,
   "id": "81804a7d-6430-48c0-a238-f0b65842a8b1",
   "metadata": {},
   "outputs": [
    {
     "data": {
      "text/plain": [
       "5"
      ]
     },
     "execution_count": 31,
     "metadata": {},
     "output_type": "execute_result"
    }
   ],
   "source": [
    "d[5]"
   ]
  },
  {
   "cell_type": "code",
   "execution_count": 33,
   "id": "bb1e0e7e-ec9e-4ac8-9675-27366b04710e",
   "metadata": {},
   "outputs": [
    {
     "data": {
      "text/plain": [
       "[10, 20, 30, 40]"
      ]
     },
     "execution_count": 33,
     "metadata": {},
     "output_type": "execute_result"
    }
   ],
   "source": [
    "d[4]"
   ]
  },
  {
   "cell_type": "code",
   "execution_count": 35,
   "id": "f7851b01-c763-47b3-960a-a3898fe9c0f3",
   "metadata": {},
   "outputs": [
    {
     "data": {
      "text/plain": [
       "30"
      ]
     },
     "execution_count": 35,
     "metadata": {},
     "output_type": "execute_result"
    }
   ],
   "source": [
    "d[4][2]"
   ]
  },
  {
   "cell_type": "markdown",
   "id": "8325dde0-c78c-4c97-842d-9b06d1da674d",
   "metadata": {},
   "source": [
    "# Funcation on list"
   ]
  },
  {
   "cell_type": "code",
   "execution_count": 38,
   "id": "52d83fed-e72b-4416-9614-ba22e9ddb46e",
   "metadata": {},
   "outputs": [
    {
     "data": {
      "text/plain": [
       "[1, 200, 3, 4, 5]"
      ]
     },
     "execution_count": 38,
     "metadata": {},
     "output_type": "execute_result"
    }
   ],
   "source": [
    "l"
   ]
  },
  {
   "cell_type": "code",
   "execution_count": 40,
   "id": "4dad2a0b-9e7d-4792-94c9-c5e325654666",
   "metadata": {},
   "outputs": [],
   "source": [
    "l.append(60)"
   ]
  },
  {
   "cell_type": "code",
   "execution_count": 42,
   "id": "7a32621d-e099-4848-bfd9-698d9a771e32",
   "metadata": {},
   "outputs": [
    {
     "data": {
      "text/plain": [
       "[1, 200, 3, 4, 5, 60]"
      ]
     },
     "execution_count": 42,
     "metadata": {},
     "output_type": "execute_result"
    }
   ],
   "source": [
    "l"
   ]
  },
  {
   "cell_type": "raw",
   "id": "38aaf198-8705-4277-ab5c-8ecc8ff0a48c",
   "metadata": {},
   "source": [
    "1. list is written in square bracket[].\n",
    "2. list is changeble."
   ]
  },
  {
   "cell_type": "code",
   "execution_count": 46,
   "id": "1f35bfdf-b2d4-4e6d-989e-6e845d2a71b5",
   "metadata": {},
   "outputs": [],
   "source": [
    "l.extend([1000,2000,3000]) #shift+tab for funcation imfo"
   ]
  },
  {
   "cell_type": "code",
   "execution_count": 48,
   "id": "24100bd5-dba5-41f9-a1eb-799a31338e7f",
   "metadata": {},
   "outputs": [
    {
     "data": {
      "text/plain": [
       "[1, 200, 3, 4, 5, 60, 1000, 2000, 3000]"
      ]
     },
     "execution_count": 48,
     "metadata": {},
     "output_type": "execute_result"
    }
   ],
   "source": [
    "l"
   ]
  },
  {
   "cell_type": "code",
   "execution_count": null,
   "id": "2541ea3c-d352-42ac-b424-e78dc966ed85",
   "metadata": {},
   "outputs": [],
   "source": []
  }
 ],
 "metadata": {
  "kernelspec": {
   "display_name": "Python 3 (ipykernel)",
   "language": "python",
   "name": "python3"
  },
  "language_info": {
   "codemirror_mode": {
    "name": "ipython",
    "version": 3
   },
   "file_extension": ".py",
   "mimetype": "text/x-python",
   "name": "python",
   "nbconvert_exporter": "python",
   "pygments_lexer": "ipython3",
   "version": "3.12.7"
  }
 },
 "nbformat": 4,
 "nbformat_minor": 5
}
