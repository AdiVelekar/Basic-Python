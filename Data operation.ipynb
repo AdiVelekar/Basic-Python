{
 "cells": [
  {
   "cell_type": "markdown",
   "id": "8b649a45-c29a-42a6-81e6-c7051691df84",
   "metadata": {},
   "source": [
    "# Operation"
   ]
  },
  {
   "cell_type": "code",
   "execution_count": 5,
   "id": "df6d846a-9d31-4d75-bb7e-8990b152f970",
   "metadata": {},
   "outputs": [
    {
     "data": {
      "text/plain": [
       "15"
      ]
     },
     "execution_count": 5,
     "metadata": {},
     "output_type": "execute_result"
    }
   ],
   "source": [
    "10 +5 #Adding 10 in 5"
   ]
  },
  {
   "cell_type": "code",
   "execution_count": 7,
   "id": "d9e86827-4e0e-44e5-97d7-c8a72e13ffb3",
   "metadata": {},
   "outputs": [
    {
     "data": {
      "text/plain": [
       "int"
      ]
     },
     "execution_count": 7,
     "metadata": {},
     "output_type": "execute_result"
    }
   ],
   "source": [
    "type(15)"
   ]
  },
  {
   "cell_type": "code",
   "execution_count": 9,
   "id": "27a2b148-3af9-4b25-9c5b-8095c1d9bbbc",
   "metadata": {},
   "outputs": [
    {
     "data": {
      "text/plain": [
       "11.1"
      ]
     },
     "execution_count": 9,
     "metadata": {},
     "output_type": "execute_result"
    }
   ],
   "source": [
    "10 +1.1 # 10 is int & 1.1 is float"
   ]
  },
  {
   "cell_type": "raw",
   "id": "c90afa59-5a94-4d35-ab4d-801385a10cfc",
   "metadata": {},
   "source": [
    "* can we perform addition and str data?\n",
    "-> No, bcoz int and str are both different type of data."
   ]
  },
  {
   "cell_type": "code",
   "execution_count": 12,
   "id": "497f95cb-ce14-4d53-9628-92f315269172",
   "metadata": {},
   "outputs": [
    {
     "data": {
      "text/plain": [
       "'HelloPython'"
      ]
     },
     "execution_count": 12,
     "metadata": {},
     "output_type": "execute_result"
    }
   ],
   "source": [
    "\"Hello\" + \"Python\" # str + str"
   ]
  },
  {
   "cell_type": "code",
   "execution_count": 16,
   "id": "cbd2c470-683f-49a4-92f9-10a829c3853e",
   "metadata": {},
   "outputs": [
    {
     "data": {
      "text/plain": [
       "'Hello Python'"
      ]
     },
     "execution_count": 16,
     "metadata": {},
     "output_type": "execute_result"
    }
   ],
   "source": [
    "\"Hello\" +  \" \" + \"Python\" "
   ]
  },
  {
   "cell_type": "code",
   "execution_count": 18,
   "id": "40e72709-95cb-46d9-8183-34a427d55c28",
   "metadata": {},
   "outputs": [
    {
     "data": {
      "text/plain": [
       "2"
      ]
     },
     "execution_count": 18,
     "metadata": {},
     "output_type": "execute_result"
    }
   ],
   "source": [
    "True + True # true = 1 #boolen + boolen"
   ]
  },
  {
   "cell_type": "code",
   "execution_count": 20,
   "id": "c6ba746b-30a3-4ae9-8e7c-470e9dfeb089",
   "metadata": {},
   "outputs": [
    {
     "data": {
      "text/plain": [
       "1"
      ]
     },
     "execution_count": 20,
     "metadata": {},
     "output_type": "execute_result"
    }
   ],
   "source": [
    "True + False "
   ]
  },
  {
   "cell_type": "code",
   "execution_count": 34,
   "id": "770f6237-1206-4d2f-bc8b-c1cce1676837",
   "metadata": {},
   "outputs": [],
   "source": [
    "first_name = \"rahul\""
   ]
  },
  {
   "cell_type": "code",
   "execution_count": 36,
   "id": "0b517454-b6ad-46b8-8417-8d95d4ca574f",
   "metadata": {},
   "outputs": [],
   "source": [
    "last_name = \"velekar\""
   ]
  },
  {
   "cell_type": "code",
   "execution_count": 45,
   "id": "b1dcc7e6-8928-4b06-b36d-f10760f893e2",
   "metadata": {},
   "outputs": [
    {
     "data": {
      "text/plain": [
       "'rahulvelekar'"
      ]
     },
     "execution_count": 45,
     "metadata": {},
     "output_type": "execute_result"
    }
   ],
   "source": [
    "first_name + last_name"
   ]
  },
  {
   "cell_type": "code",
   "execution_count": 47,
   "id": "30e83e01-c964-48f5-b4ac-c7cf0d3efa86",
   "metadata": {},
   "outputs": [],
   "source": [
    "full_name = first_name + last_name"
   ]
  },
  {
   "cell_type": "code",
   "execution_count": 50,
   "id": "0f46b8bc-cdf2-494f-a90d-20c63daf76d8",
   "metadata": {},
   "outputs": [
    {
     "data": {
      "text/plain": [
       "'rahulvelekar'"
      ]
     },
     "execution_count": 50,
     "metadata": {},
     "output_type": "execute_result"
    }
   ],
   "source": [
    "full_name"
   ]
  },
  {
   "cell_type": "code",
   "execution_count": 58,
   "id": "407628d1-104f-4566-98b4-d1550b6ede7e",
   "metadata": {},
   "outputs": [
    {
     "data": {
      "text/plain": [
       "5"
      ]
     },
     "execution_count": 58,
     "metadata": {},
     "output_type": "execute_result"
    }
   ],
   "source": [
    "int('5')"
   ]
  },
  {
   "cell_type": "code",
   "execution_count": 60,
   "id": "0e4013a2-2bdb-4171-8932-8424ae87b6a0",
   "metadata": {},
   "outputs": [
    {
     "name": "stdin",
     "output_type": "stream",
     "text": [
      "write your first name rahul\n"
     ]
    }
   ],
   "source": [
    "name=input('write your first name')"
   ]
  },
  {
   "cell_type": "code",
   "execution_count": null,
   "id": "6c0ee651-d2f7-47b2-99cb-b13f9fb3e39d",
   "metadata": {},
   "outputs": [],
   "source": []
  }
 ],
 "metadata": {
  "kernelspec": {
   "display_name": "Python 3 (ipykernel)",
   "language": "python",
   "name": "python3"
  },
  "language_info": {
   "codemirror_mode": {
    "name": "ipython",
    "version": 3
   },
   "file_extension": ".py",
   "mimetype": "text/x-python",
   "name": "python",
   "nbconvert_exporter": "python",
   "pygments_lexer": "ipython3",
   "version": "3.12.7"
  }
 },
 "nbformat": 4,
 "nbformat_minor": 5
}
