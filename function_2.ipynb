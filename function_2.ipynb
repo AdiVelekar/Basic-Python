{
 "cells": [
  {
   "cell_type": "code",
   "execution_count": 2,
   "id": "5511a4c0-dfed-4c20-a1f8-536ef89958b0",
   "metadata": {},
   "outputs": [],
   "source": [
    "def test(x):\n",
    "    if x > 10:\n",
    "        return 'grater than 10'\n",
    "    else:\n",
    "        return 'not grater than 10'"
   ]
  },
  {
   "cell_type": "code",
   "execution_count": 4,
   "id": "036acb7c-e472-4f32-9ffb-5dfa4997a0b7",
   "metadata": {},
   "outputs": [
    {
     "data": {
      "text/plain": [
       "'not grater than 10'"
      ]
     },
     "execution_count": 4,
     "metadata": {},
     "output_type": "execute_result"
    }
   ],
   "source": [
    "test(4)"
   ]
  },
  {
   "cell_type": "code",
   "execution_count": 6,
   "id": "b9ccbc73-07b3-4f4d-b41f-1c558145252b",
   "metadata": {},
   "outputs": [
    {
     "data": {
      "text/plain": [
       "'grater than 10'"
      ]
     },
     "execution_count": 6,
     "metadata": {},
     "output_type": "execute_result"
    }
   ],
   "source": [
    "test(11)"
   ]
  },
  {
   "cell_type": "code",
   "execution_count": 8,
   "id": "db5fb1eb-0114-4e8d-999c-e7f1e3cf405f",
   "metadata": {},
   "outputs": [],
   "source": [
    "def test2(a,b,c,d,e):\n",
    "    return a,b,c,d,e"
   ]
  },
  {
   "cell_type": "code",
   "execution_count": 10,
   "id": "ffa86753-c57b-4f61-bc10-a3c568bdd8ae",
   "metadata": {},
   "outputs": [
    {
     "data": {
      "text/plain": [
       "(10, 20, 30, 40, 50)"
      ]
     },
     "execution_count": 10,
     "metadata": {},
     "output_type": "execute_result"
    }
   ],
   "source": [
    "test2(10,20,30,40,50)"
   ]
  },
  {
   "cell_type": "code",
   "execution_count": 18,
   "id": "797d6d11-0f29-4d3c-81f5-829e16aeb685",
   "metadata": {},
   "outputs": [],
   "source": [
    "mix = [10,1.5,True,'hello']"
   ]
  },
  {
   "cell_type": "code",
   "execution_count": 14,
   "id": "a699807d-9da7-46bf-96fc-8276a880fba3",
   "metadata": {},
   "outputs": [],
   "source": [
    "def int_filter(x):\n",
    "    l = []\n",
    "    for i in x:\n",
    "        if type (i) == int:\n",
    "            l.append(i)\n",
    "    return l"
   ]
  },
  {
   "cell_type": "code",
   "execution_count": 20,
   "id": "27becbb5-afbd-48b5-a6f5-18210d5df124",
   "metadata": {},
   "outputs": [
    {
     "data": {
      "text/plain": [
       "[10]"
      ]
     },
     "execution_count": 20,
     "metadata": {},
     "output_type": "execute_result"
    }
   ],
   "source": [
    "int_filter( [10,1.5,True,'hello'])"
   ]
  },
  {
   "cell_type": "code",
   "execution_count": 22,
   "id": "6087dc6a-ef3c-4541-b2db-e2d8813afc92",
   "metadata": {},
   "outputs": [],
   "source": [
    "# local and global variable\n",
    ">local is valid for one function.\n",
    ">global is valid for every function."
   ]
  },
  {
   "cell_type": "code",
   "execution_count": 28,
   "id": "3eb0158b-f6fe-49d8-bfb7-133c4393e144",
   "metadata": {},
   "outputs": [],
   "source": [
    "def float_filter(x):\n",
    "    o = []\n",
    "    for i in x:\n",
    "        if type(i) == float:\n",
    "            o .append(i)\n",
    "    return o"
   ]
  },
  {
   "cell_type": "code",
   "execution_count": 30,
   "id": "ebc05f0b-e8dc-459f-9725-0e7ead1e6b8e",
   "metadata": {},
   "outputs": [
    {
     "data": {
      "text/plain": [
       "[1.5]"
      ]
     },
     "execution_count": 30,
     "metadata": {},
     "output_type": "execute_result"
    }
   ],
   "source": [
    "float_filter([10,1.5,True,'hello'])"
   ]
  },
  {
   "cell_type": "code",
   "execution_count": 32,
   "id": "fdd2f8af-1330-4aef-8f4e-db4be0407d7b",
   "metadata": {},
   "outputs": [],
   "source": [
    "#List filter"
   ]
  },
  {
   "cell_type": "code",
   "execution_count": 36,
   "id": "1d40b216-7f16-4338-8aec-95814a4832a2",
   "metadata": {},
   "outputs": [],
   "source": [
    "m = [(1,2,3),[10,20,30],{1,2,3},{'a':10,'b':20}]"
   ]
  },
  {
   "cell_type": "code",
   "execution_count": 38,
   "id": "1dee2f42-3f36-4335-af52-118959035233",
   "metadata": {},
   "outputs": [
    {
     "name": "stdout",
     "output_type": "stream",
     "text": [
      "(1, 2, 3) <class 'tuple'>\n",
      "[10, 20, 30] <class 'list'>\n",
      "{1, 2, 3} <class 'set'>\n",
      "{'a': 10, 'b': 20} <class 'dict'>\n"
     ]
    }
   ],
   "source": [
    "for i in m:\n",
    "    print(i,type(i))"
   ]
  },
  {
   "cell_type": "code",
   "execution_count": 42,
   "id": "53917835-0146-4727-8e9f-37348ad30474",
   "metadata": {},
   "outputs": [],
   "source": [
    "def list_filter(x):\n",
    "    l = []\n",
    "    for i in x:\n",
    "        if type(i) == list:\n",
    "            l.append(i)\n",
    "    return l"
   ]
  },
  {
   "cell_type": "code",
   "execution_count": 44,
   "id": "66a41be6-1c2c-4792-a8f3-e7a4883480b7",
   "metadata": {},
   "outputs": [
    {
     "data": {
      "text/plain": [
       "[[10, 20, 30]]"
      ]
     },
     "execution_count": 44,
     "metadata": {},
     "output_type": "execute_result"
    }
   ],
   "source": [
    "list_filter([(1,2,3),[10,20,30],{1,2,3},{'a':10,'b':20}])"
   ]
  },
  {
   "cell_type": "code",
   "execution_count": 46,
   "id": "604585c4-0f5b-4ddd-97e3-32fda2b2a7fa",
   "metadata": {},
   "outputs": [],
   "source": [
    "# how to fetch nested list dataset"
   ]
  },
  {
   "cell_type": "code",
   "execution_count": 50,
   "id": "8a0afc6d-e2a2-4f40-8799-1240b3fa02e6",
   "metadata": {},
   "outputs": [],
   "source": [
    "l = [(1,2,3),[10,20,30],{1,2,3},{'a':10,'b':20}]"
   ]
  },
  {
   "cell_type": "code",
   "execution_count": 52,
   "id": "e603ecee-5756-46ad-b846-411490cb0048",
   "metadata": {},
   "outputs": [
    {
     "data": {
      "text/plain": [
       "[(1, 2, 3), [10, 20, 30], {1, 2, 3}, {'a': 10, 'b': 20}]"
      ]
     },
     "execution_count": 52,
     "metadata": {},
     "output_type": "execute_result"
    }
   ],
   "source": [
    "l"
   ]
  },
  {
   "cell_type": "code",
   "execution_count": 56,
   "id": "df279401-6d30-4b2c-b26f-00bc0633b0cf",
   "metadata": {},
   "outputs": [
    {
     "name": "stdout",
     "output_type": "stream",
     "text": [
      "10\n",
      "20\n",
      "30\n"
     ]
    }
   ],
   "source": [
    "for i in l:\n",
    "    if type (i) == list:\n",
    "        for num in i:\n",
    "            print(num)"
   ]
  },
  {
   "cell_type": "code",
   "execution_count": 58,
   "id": "94d09d12-ce51-468b-b5b4-7e0005ef5622",
   "metadata": {},
   "outputs": [],
   "source": [
    "# filter out int type of data"
   ]
  },
  {
   "cell_type": "code",
   "execution_count": 60,
   "id": "c7a5376d-6736-4730-8f1a-a199e14ea970",
   "metadata": {},
   "outputs": [],
   "source": [
    "k = [ 1,1.5,10,True,[20,2.5,'hey',100],8]"
   ]
  },
  {
   "cell_type": "code",
   "execution_count": 62,
   "id": "9bb47cf5-64bf-4d7d-a25e-cd64a8b63efe",
   "metadata": {},
   "outputs": [
    {
     "data": {
      "text/plain": [
       "[1, 1.5, 10, True, [20, 2.5, 'hey', 100], 8]"
      ]
     },
     "execution_count": 62,
     "metadata": {},
     "output_type": "execute_result"
    }
   ],
   "source": [
    "k"
   ]
  },
  {
   "cell_type": "code",
   "execution_count": 68,
   "id": "d800cae8-f59b-4e4a-8799-29e1ddc0c09c",
   "metadata": {},
   "outputs": [],
   "source": [
    "def int_nested_filter(x):\n",
    "    l = []\n",
    "    for i in x:\n",
    "        if type(i) == int:\n",
    "            l.append(i)\n",
    "        elif type (i) == list:\n",
    "            for num in i:\n",
    "             if type (num) == int:\n",
    "                l.append(num)\n",
    "    return l\n"
   ]
  },
  {
   "cell_type": "code",
   "execution_count": 70,
   "id": "f59341c2-e4d3-4662-9c35-f0e4d4718c6e",
   "metadata": {},
   "outputs": [
    {
     "data": {
      "text/plain": [
       "[1, 10, 20, 100, 8]"
      ]
     },
     "execution_count": 70,
     "metadata": {},
     "output_type": "execute_result"
    }
   ],
   "source": [
    "int_nested_filter([ 1,1.5,10,True,[20,2.5,'hey',100],8])"
   ]
  },
  {
   "cell_type": "code",
   "execution_count": 72,
   "id": "4c1adeda-ec92-428c-9353-d29855b79f91",
   "metadata": {},
   "outputs": [],
   "source": [
    "# what if i want to pass infinite data to my function"
   ]
  },
  {
   "cell_type": "code",
   "execution_count": 82,
   "id": "80ef51e8-6b5f-46c0-a34a-0b90a7e333cf",
   "metadata": {},
   "outputs": [
    {
     "ename": "SyntaxError",
     "evalue": "incomplete input (1720764337.py, line 1)",
     "output_type": "error",
     "traceback": [
      "\u001b[1;36m  Cell \u001b[1;32mIn[82], line 1\u001b[1;36m\u001b[0m\n\u001b[1;33m    def test4(a,b,c,d):\u001b[0m\n\u001b[1;37m                       ^\u001b[0m\n\u001b[1;31mSyntaxError\u001b[0m\u001b[1;31m:\u001b[0m incomplete input\n"
     ]
    }
   ],
   "source": []
  },
  {
   "cell_type": "code",
   "execution_count": 78,
   "id": "41203635-9171-4bc3-8af6-3f25c924abaf",
   "metadata": {},
   "outputs": [
    {
     "ename": "NameError",
     "evalue": "name 'test4' is not defined",
     "output_type": "error",
     "traceback": [
      "\u001b[1;31m---------------------------------------------------------------------------\u001b[0m",
      "\u001b[1;31mNameError\u001b[0m                                 Traceback (most recent call last)",
      "Cell \u001b[1;32mIn[78], line 1\u001b[0m\n\u001b[1;32m----> 1\u001b[0m test4\n",
      "\u001b[1;31mNameError\u001b[0m: name 'test4' is not defined"
     ]
    }
   ],
   "source": []
  },
  {
   "cell_type": "code",
   "execution_count": null,
   "id": "749aded6-7f83-4088-9c1a-39ba912dc0c9",
   "metadata": {},
   "outputs": [],
   "source": []
  }
 ],
 "metadata": {
  "kernelspec": {
   "display_name": "Python 3 (ipykernel)",
   "language": "python",
   "name": "python3"
  },
  "language_info": {
   "codemirror_mode": {
    "name": "ipython",
    "version": 3
   },
   "file_extension": ".py",
   "mimetype": "text/x-python",
   "name": "python",
   "nbconvert_exporter": "python",
   "pygments_lexer": "ipython3",
   "version": "3.12.7"
  }
 },
 "nbformat": 4,
 "nbformat_minor": 5
}
