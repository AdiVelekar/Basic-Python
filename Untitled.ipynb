{
 "cells": [
  {
   "cell_type": "code",
   "execution_count": null,
   "id": "860b0f32-f7e9-4e73-8187-b00944398cfd",
   "metadata": {},
   "outputs": [],
   "source": []
  }
 ],
 "metadata": {
  "kernelspec": {
   "display_name": "",
   "name": ""
  },
  "language_info": {
   "name": ""
  }
 },
 "nbformat": 4,
 "nbformat_minor": 5
}
