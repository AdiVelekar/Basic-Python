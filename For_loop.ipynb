{
 "cells": [
  {
   "cell_type": "markdown",
   "id": "bcd77a72-34f0-447e-8741-1daebe981ad0",
   "metadata": {},
   "source": [
    "# For loop"
   ]
  },
  {
   "cell_type": "code",
   "execution_count": 5,
   "id": "667d01c4-02c4-469e-984a-325c2db648b8",
   "metadata": {},
   "outputs": [],
   "source": [
    "l = [1,2,3,4,5]"
   ]
  },
  {
   "cell_type": "code",
   "execution_count": 7,
   "id": "5eb785a9-d798-4900-9f1a-44f385e238bc",
   "metadata": {},
   "outputs": [
    {
     "name": "stdout",
     "output_type": "stream",
     "text": [
      "1\n",
      "2\n",
      "3\n",
      "4\n",
      "5\n"
     ]
    }
   ],
   "source": [
    "for num in l:\n",
    "    print(num)"
   ]
  },
  {
   "cell_type": "code",
   "execution_count": 9,
   "id": "0560ed24-29ab-4628-bbbd-65a55843dfad",
   "metadata": {},
   "outputs": [
    {
     "name": "stdout",
     "output_type": "stream",
     "text": [
      "[1, 2, 3, 4, 5]\n",
      "[1, 2, 3, 4, 5]\n",
      "[1, 2, 3, 4, 5]\n",
      "[1, 2, 3, 4, 5]\n",
      "[1, 2, 3, 4, 5]\n"
     ]
    }
   ],
   "source": [
    " for i in l:\n",
    "     print(l)"
   ]
  },
  {
   "cell_type": "code",
   "execution_count": 11,
   "id": "e1549dcd-6e33-40ad-b742-773526127a8d",
   "metadata": {},
   "outputs": [
    {
     "name": "stdout",
     "output_type": "stream",
     "text": [
      "101\n",
      "102\n",
      "103\n",
      "104\n",
      "105\n"
     ]
    }
   ],
   "source": [
    "for i in l:\n",
    "    print(i+100)"
   ]
  },
  {
   "cell_type": "code",
   "execution_count": 13,
   "id": "7ddc8d47-f764-45b7-99dc-96d1982715e5",
   "metadata": {},
   "outputs": [
    {
     "name": "stdout",
     "output_type": "stream",
     "text": [
      "D\n",
      "a\n",
      "t\n",
      "a\n"
     ]
    }
   ],
   "source": [
    "for i in 'Data':\n",
    "    print(i)"
   ]
  },
  {
   "cell_type": "code",
   "execution_count": 15,
   "id": "8d0a4c80-7cc6-4bbc-9119-49c0f3755530",
   "metadata": {},
   "outputs": [],
   "source": [
    "names = ['om','ram','sham','ganesh','ramesh']"
   ]
  },
  {
   "cell_type": "code",
   "execution_count": 19,
   "id": "29500edb-c2bd-4f64-a6ef-7264785f78f1",
   "metadata": {},
   "outputs": [
    {
     "name": "stdout",
     "output_type": "stream",
     "text": [
      "om\n",
      "ram\n",
      "sham\n",
      "ganesh\n",
      "ramesh\n"
     ]
    }
   ],
   "source": [
    "for i in names:\n",
    "    print(i)"
   ]
  },
  {
   "cell_type": "code",
   "execution_count": 25,
   "id": "a3d3d49e-57a5-467d-848d-a851790562d1",
   "metadata": {},
   "outputs": [
    {
     "name": "stdout",
     "output_type": "stream",
     "text": [
      "my name is om\n",
      "my name is ram\n",
      "my name is sham\n",
      "my name is ganesh\n",
      "my name is ramesh\n"
     ]
    }
   ],
   "source": [
    "for i in names:\n",
    "    print('my name is ' + i)"
   ]
  },
  {
   "cell_type": "code",
   "execution_count": 27,
   "id": "a35a4524-e33a-4095-9840-cdf5ff58ddd1",
   "metadata": {},
   "outputs": [],
   "source": [
    "mix = [1,1.5,'data',True,10+5j]"
   ]
  },
  {
   "cell_type": "code",
   "execution_count": 29,
   "id": "748e909a-bc6b-4fb2-a4e3-73c2430c46be",
   "metadata": {},
   "outputs": [
    {
     "name": "stdout",
     "output_type": "stream",
     "text": [
      "1\n",
      "1.5\n",
      "data\n",
      "True\n",
      "(10+5j)\n"
     ]
    }
   ],
   "source": [
    "for i in mix:\n",
    "    print(i)"
   ]
  },
  {
   "cell_type": "code",
   "execution_count": 31,
   "id": "f9fec69e-eb77-4d43-aae0-822e72322545",
   "metadata": {},
   "outputs": [
    {
     "name": "stdout",
     "output_type": "stream",
     "text": [
      "1 <class 'int'>\n",
      "1.5 <class 'float'>\n",
      "data <class 'str'>\n",
      "True <class 'bool'>\n",
      "(10+5j) <class 'complex'>\n"
     ]
    }
   ],
   "source": [
    "for i in mix:\n",
    "    print(i,type(i))"
   ]
  },
  {
   "cell_type": "code",
   "execution_count": 76,
   "id": "1e7bd2d9-71f0-49e7-9592-1cba41167beb",
   "metadata": {},
   "outputs": [],
   "source": [
    "# for loop is going to iterate data one by one."
   ]
  },
  {
   "cell_type": "code",
   "execution_count": 97,
   "id": "558d445a-c7db-4ac2-a589-e56d0c6c5841",
   "metadata": {},
   "outputs": [
    {
     "name": "stdout",
     "output_type": "stream",
     "text": [
      "1\n"
     ]
    }
   ],
   "source": [
    "for i in mix:\n",
    "    if type(i) == int:\n",
    "        print(i)"
   ]
  },
  {
   "cell_type": "code",
   "execution_count": 101,
   "id": "f3b2cf51-f397-4b9f-b55b-5f130a83c9c5",
   "metadata": {},
   "outputs": [],
   "source": [
    "p=[1,2,3,4,[10,20,30],5,6]"
   ]
  },
  {
   "cell_type": "code",
   "execution_count": 103,
   "id": "c05decf7-024a-4342-a30e-979fe91ab52e",
   "metadata": {},
   "outputs": [
    {
     "name": "stdout",
     "output_type": "stream",
     "text": [
      "1\n",
      "2\n",
      "3\n",
      "4\n",
      "[10, 20, 30]\n",
      "5\n",
      "6\n"
     ]
    }
   ],
   "source": [
    "for i in p:\n",
    "    print(i)"
   ]
  },
  {
   "cell_type": "code",
   "execution_count": 105,
   "id": "c279afe0-8f30-4ce2-b4bd-e20e32abb99a",
   "metadata": {},
   "outputs": [
    {
     "name": "stdout",
     "output_type": "stream",
     "text": [
      "1 <class 'int'>\n",
      "2 <class 'int'>\n",
      "3 <class 'int'>\n",
      "4 <class 'int'>\n",
      "[10, 20, 30] <class 'list'>\n",
      "5 <class 'int'>\n",
      "6 <class 'int'>\n"
     ]
    }
   ],
   "source": [
    "for i in p:\n",
    "    print(i,type(i))"
   ]
  },
  {
   "cell_type": "code",
   "execution_count": 107,
   "id": "8524049e-d938-4ff9-a0b7-25ab969a1201",
   "metadata": {},
   "outputs": [
    {
     "name": "stdout",
     "output_type": "stream",
     "text": [
      "10\n",
      "20\n",
      "30\n"
     ]
    }
   ],
   "source": [
    "for i in p:\n",
    "    if type(i) == list:\n",
    "        for num in i:\n",
    "            print(num)"
   ]
  },
  {
   "cell_type": "code",
   "execution_count": 109,
   "id": "79815908-0d68-4487-a447-de30c222c76c",
   "metadata": {},
   "outputs": [],
   "source": [
    "# filter out even and odd data"
   ]
  },
  {
   "cell_type": "code",
   "execution_count": 111,
   "id": "7df99e24-ac91-44fb-a3d0-86e1b9668944",
   "metadata": {},
   "outputs": [
    {
     "name": "stdout",
     "output_type": "stream",
     "text": [
      "odd\n"
     ]
    }
   ],
   "source": [
    "num = 5\n",
    "if num % 2 ==0:\n",
    "    print(even)\n",
    "else:\n",
    "    print('odd')"
   ]
  },
  {
   "cell_type": "code",
   "execution_count": 113,
   "id": "2800577b-3647-4735-a6b0-f9a043eff1fd",
   "metadata": {},
   "outputs": [],
   "source": [
    "# filter out even number from 1 to 10 dataset"
   ]
  },
  {
   "cell_type": "code",
   "execution_count": null,
   "id": "3b6a2f0e-e635-4c66-b720-ea67e70b172a",
   "metadata": {},
   "outputs": [],
   "source": []
  }
 ],
 "metadata": {
  "kernelspec": {
   "display_name": "Python 3 (ipykernel)",
   "language": "python",
   "name": "python3"
  },
  "language_info": {
   "codemirror_mode": {
    "name": "ipython",
    "version": 3
   },
   "file_extension": ".py",
   "mimetype": "text/x-python",
   "name": "python",
   "nbconvert_exporter": "python",
   "pygments_lexer": "ipython3",
   "version": "3.12.7"
  }
 },
 "nbformat": 4,
 "nbformat_minor": 5
}
