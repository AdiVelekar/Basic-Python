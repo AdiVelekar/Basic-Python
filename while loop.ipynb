{
 "cells": [
  {
   "cell_type": "code",
   "execution_count": 2,
   "id": "03b3ee11-4bf9-4c0e-931e-43d1d78d4f3c",
   "metadata": {},
   "outputs": [],
   "source": [
    "x = 1"
   ]
  },
  {
   "cell_type": "code",
   "execution_count": 4,
   "id": "0ad64467-a9d8-46dc-ab98-222ab3b5832a",
   "metadata": {},
   "outputs": [
    {
     "name": "stdout",
     "output_type": "stream",
     "text": [
      "1\n",
      "2\n",
      "3\n",
      "4\n",
      "5\n",
      "6\n",
      "7\n",
      "8\n",
      "9\n",
      "10\n"
     ]
    }
   ],
   "source": [
    "while x <= 10:\n",
    "    print(x)\n",
    "    x = x + 1"
   ]
  },
  {
   "cell_type": "code",
   "execution_count": 6,
   "id": "fb1d8883-8a60-4525-b8e3-a0ed6b50c743",
   "metadata": {},
   "outputs": [],
   "source": [
    "#countdown timer"
   ]
  },
  {
   "cell_type": "code",
   "execution_count": 8,
   "id": "b1cc8742-b436-469f-9fe8-85bfd82544ec",
   "metadata": {},
   "outputs": [],
   "source": [
    "n = 5"
   ]
  },
  {
   "cell_type": "code",
   "execution_count": 10,
   "id": "216cf311-2524-4c10-993f-ea23614f7fc5",
   "metadata": {},
   "outputs": [
    {
     "name": "stdout",
     "output_type": "stream",
     "text": [
      "5\n",
      "4\n",
      "3\n",
      "2\n",
      "1\n"
     ]
    }
   ],
   "source": [
    "while n > 0:\n",
    "    print(n)\n",
    "    n = n-1"
   ]
  },
  {
   "cell_type": "code",
   "execution_count": 24,
   "id": "e6acf8c2-ef40-48ef-a8ba-798ee49eb7fd",
   "metadata": {},
   "outputs": [],
   "source": [
    "# while loop is getting excuted until unless it is not getting false condition"
   ]
  },
  {
   "cell_type": "code",
   "execution_count": 28,
   "id": "b075e4bf-4c1d-4b75-b12c-0241f2dd81c4",
   "metadata": {},
   "outputs": [],
   "source": [
    "button = 'hello'"
   ]
  },
  {
   "cell_type": "code",
   "execution_count": 30,
   "id": "9a786ee5-8cb6-464e-b338-5afd1ec978fb",
   "metadata": {},
   "outputs": [
    {
     "data": {
      "text/plain": [
       "'hello'"
      ]
     },
     "execution_count": 30,
     "metadata": {},
     "output_type": "execute_result"
    }
   ],
   "source": [
    "button"
   ]
  },
  {
   "cell_type": "code",
   "execution_count": 32,
   "id": "6cb05101-0668-406f-95dd-777466a168cb",
   "metadata": {},
   "outputs": [
    {
     "data": {
      "text/plain": [
       "str"
      ]
     },
     "execution_count": 32,
     "metadata": {},
     "output_type": "execute_result"
    }
   ],
   "source": [
    "type(button)"
   ]
  },
  {
   "cell_type": "code",
   "execution_count": 36,
   "id": "bc299446-ddc8-4fe5-80bb-ab944aca9520",
   "metadata": {},
   "outputs": [
    {
     "data": {
      "text/plain": [
       "True"
      ]
     },
     "execution_count": 36,
     "metadata": {},
     "output_type": "execute_result"
    }
   ],
   "source": [
    "button == 'hello'"
   ]
  },
  {
   "cell_type": "code",
   "execution_count": 38,
   "id": "7855abd2-c9d9-48ca-907a-0d5db956b089",
   "metadata": {},
   "outputs": [
    {
     "name": "stdout",
     "output_type": "stream",
     "text": [
      "hello\n"
     ]
    },
    {
     "name": "stdin",
     "output_type": "stream",
     "text": [
      "write stop to exit loop python\n"
     ]
    },
    {
     "name": "stdout",
     "output_type": "stream",
     "text": [
      "python\n"
     ]
    },
    {
     "name": "stdin",
     "output_type": "stream",
     "text": [
      "write stop to exit loop ok\n"
     ]
    },
    {
     "name": "stdout",
     "output_type": "stream",
     "text": [
      "ok\n"
     ]
    },
    {
     "name": "stdin",
     "output_type": "stream",
     "text": [
      "write stop to exit loop stop\n"
     ]
    }
   ],
   "source": [
    "while button != 'stop':\n",
    "    print(button)\n",
    "    button = input ('write stop to exit loop')"
   ]
  },
  {
   "cell_type": "markdown",
   "id": "9b2fad3d-7465-4498-8dae-87f29b319762",
   "metadata": {},
   "source": [
    "# Break,Continue,pass"
   ]
  },
  {
   "cell_type": "code",
   "execution_count": 41,
   "id": "14ea1cbe-9604-47b4-bc52-94a5504a9696",
   "metadata": {},
   "outputs": [],
   "source": [
    "l = [1,2,3,4,5]"
   ]
  },
  {
   "cell_type": "code",
   "execution_count": 46,
   "id": "104e37ff-009b-4665-a87a-cfaab6633838",
   "metadata": {},
   "outputs": [
    {
     "name": "stdout",
     "output_type": "stream",
     "text": [
      "1\n",
      "2\n",
      "3\n",
      "4\n",
      "5\n"
     ]
    }
   ],
   "source": [
    "for i in l:\n",
    "    print(i)"
   ]
  },
  {
   "cell_type": "code",
   "execution_count": 72,
   "id": "19687d4c-9bd1-4671-be09-b979d4e93b8b",
   "metadata": {},
   "outputs": [
    {
     "name": "stdout",
     "output_type": "stream",
     "text": [
      "1\n",
      "2\n"
     ]
    }
   ],
   "source": [
    "for i in l:\n",
    "    if i == 3:\n",
    "        break\n",
    "    print(i)"
   ]
  },
  {
   "cell_type": "code",
   "execution_count": 74,
   "id": "f143debd-d080-4f25-b626-cce285389d46",
   "metadata": {},
   "outputs": [
    {
     "name": "stdout",
     "output_type": "stream",
     "text": [
      "d\n",
      "a\n",
      "t\n",
      "a\n",
      " \n",
      "s\n"
     ]
    }
   ],
   "source": [
    "for i in 'data science':\n",
    "    if i == 'c':\n",
    "        break\n",
    "    print(i)"
   ]
  },
  {
   "cell_type": "code",
   "execution_count": 76,
   "id": "208496fb-3dc1-4afa-ab21-5077515d9e2c",
   "metadata": {},
   "outputs": [],
   "source": [
    "#continue"
   ]
  },
  {
   "cell_type": "code",
   "execution_count": 78,
   "id": "c9b73bc9-7a61-4d07-8c1a-832b33c0e5fb",
   "metadata": {},
   "outputs": [
    {
     "data": {
      "text/plain": [
       "[1, 2, 3, 4, 5]"
      ]
     },
     "execution_count": 78,
     "metadata": {},
     "output_type": "execute_result"
    }
   ],
   "source": [
    "l"
   ]
  },
  {
   "cell_type": "code",
   "execution_count": 80,
   "id": "74289dcc-a628-4261-822d-1e54a5a484da",
   "metadata": {},
   "outputs": [
    {
     "name": "stdout",
     "output_type": "stream",
     "text": [
      "1\n",
      "2\n",
      "4\n",
      "5\n"
     ]
    }
   ],
   "source": [
    "for i in l:\n",
    "    if i == 3:\n",
    "        continue\n",
    "    print(i)"
   ]
  },
  {
   "cell_type": "code",
   "execution_count": 82,
   "id": "7d8268e8-3f70-4ebe-bd14-2fbc9a0a87dd",
   "metadata": {},
   "outputs": [
    {
     "name": "stdout",
     "output_type": "stream",
     "text": [
      "d\n",
      "a\n",
      "t\n",
      "a\n",
      " \n",
      "s\n",
      "c\n",
      "i\n",
      "n\n",
      "c\n"
     ]
    }
   ],
   "source": [
    "for i in 'data science':\n",
    "    if i == 'e':\n",
    "        continue\n",
    "    print(i)\n",
    "    "
   ]
  },
  {
   "cell_type": "code",
   "execution_count": 84,
   "id": "b6f18b86-7c79-4908-ad4e-925db078bd1f",
   "metadata": {},
   "outputs": [],
   "source": [
    "#Pass (Do nothing)"
   ]
  },
  {
   "cell_type": "code",
   "execution_count": 86,
   "id": "f924fec5-51cb-4600-b590-290190dc1603",
   "metadata": {},
   "outputs": [],
   "source": [
    "for i in l:\n",
    "    pass"
   ]
  },
  {
   "cell_type": "code",
   "execution_count": 88,
   "id": "6b3d4615-67da-45fb-bf16-39d761e38f64",
   "metadata": {},
   "outputs": [
    {
     "name": "stdout",
     "output_type": "stream",
     "text": [
      "d\n",
      "a\n",
      "t\n",
      "a\n",
      " \n",
      "s\n",
      "c\n",
      "i\n",
      "e\n",
      "n\n",
      "c\n",
      "e\n"
     ]
    }
   ],
   "source": [
    "for i in 'data science':\n",
    "    if i == 'e':\n",
    "        pass\n",
    "    print(i)"
   ]
  },
  {
   "cell_type": "code",
   "execution_count": null,
   "id": "4f79723a-2b38-4bcc-b56e-1ee3c68a7a37",
   "metadata": {},
   "outputs": [],
   "source": []
  }
 ],
 "metadata": {
  "kernelspec": {
   "display_name": "Python 3 (ipykernel)",
   "language": "python",
   "name": "python3"
  },
  "language_info": {
   "codemirror_mode": {
    "name": "ipython",
    "version": 3
   },
   "file_extension": ".py",
   "mimetype": "text/x-python",
   "name": "python",
   "nbconvert_exporter": "python",
   "pygments_lexer": "ipython3",
   "version": "3.12.7"
  }
 },
 "nbformat": 4,
 "nbformat_minor": 5
}
