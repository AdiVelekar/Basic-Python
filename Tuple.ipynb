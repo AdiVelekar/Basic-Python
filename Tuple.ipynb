{
 "cells": [
  {
   "cell_type": "code",
   "execution_count": 6,
   "id": "e2c16838-e29e-4530-b65f-00d3344e1391",
   "metadata": {},
   "outputs": [],
   "source": [
    "names=('om','sham','ramesh','suresh')"
   ]
  },
  {
   "cell_type": "code",
   "execution_count": 8,
   "id": "6a42270b-eddb-4a1e-975a-642bb0b91dc6",
   "metadata": {},
   "outputs": [
    {
     "data": {
      "text/plain": [
       "('om', 'sham', 'ramesh', 'suresh')"
      ]
     },
     "execution_count": 8,
     "metadata": {},
     "output_type": "execute_result"
    }
   ],
   "source": [
    "names"
   ]
  },
  {
   "cell_type": "code",
   "execution_count": 17,
   "id": "519da6a4-ee0b-47e7-96d8-a5230b6850d1",
   "metadata": {},
   "outputs": [
    {
     "data": {
      "text/plain": [
       "1"
      ]
     },
     "execution_count": 17,
     "metadata": {},
     "output_type": "execute_result"
    }
   ],
   "source": [
    "names.count('om')"
   ]
  },
  {
   "cell_type": "code",
   "execution_count": 27,
   "id": "5811e817-8c65-4e4d-adb4-0c8df897854c",
   "metadata": {},
   "outputs": [],
   "source": [
    "l=[1,2,3,4,5]"
   ]
  },
  {
   "cell_type": "code",
   "execution_count": 29,
   "id": "25fda92f-46db-4c2b-9ec2-37efd02d9e7b",
   "metadata": {},
   "outputs": [
    {
     "data": {
      "text/plain": [
       "[1, 2, 3, 4, 5]"
      ]
     },
     "execution_count": 29,
     "metadata": {},
     "output_type": "execute_result"
    }
   ],
   "source": [
    "l"
   ]
  },
  {
   "cell_type": "code",
   "execution_count": 31,
   "id": "e05b7be8-ab8c-4a1b-9e0a-e9f55bf8e174",
   "metadata": {},
   "outputs": [
    {
     "data": {
      "text/plain": [
       "1"
      ]
     },
     "execution_count": 31,
     "metadata": {},
     "output_type": "execute_result"
    }
   ],
   "source": [
    "l.count(2)"
   ]
  },
  {
   "cell_type": "code",
   "execution_count": 37,
   "id": "dd8e538d-11cb-48ec-97f2-737ee4df3c82",
   "metadata": {},
   "outputs": [
    {
     "data": {
      "text/plain": [
       "[1, 2, 3, 4, 5]"
      ]
     },
     "execution_count": 37,
     "metadata": {},
     "output_type": "execute_result"
    }
   ],
   "source": [
    "l"
   ]
  },
  {
   "cell_type": "code",
   "execution_count": 48,
   "id": "7629b70b-2486-4dc5-960f-8d5edff720fc",
   "metadata": {},
   "outputs": [],
   "source": [
    "l.sort()"
   ]
  },
  {
   "cell_type": "code",
   "execution_count": 50,
   "id": "75ddc3e3-dd56-4464-a563-134fe65ce40e",
   "metadata": {},
   "outputs": [
    {
     "data": {
      "text/plain": [
       "[1, 2, 3, 4, 5]"
      ]
     },
     "execution_count": 50,
     "metadata": {},
     "output_type": "execute_result"
    }
   ],
   "source": [
    "l"
   ]
  },
  {
   "cell_type": "code",
   "execution_count": 60,
   "id": "6666295d-3993-448f-b6ea-1420d24cac2a",
   "metadata": {},
   "outputs": [
    {
     "data": {
      "text/plain": [
       "[3, 4, 5]"
      ]
     },
     "execution_count": 60,
     "metadata": {},
     "output_type": "execute_result"
    }
   ],
   "source": [
    "l"
   ]
  },
  {
   "cell_type": "code",
   "execution_count": 64,
   "id": "add7e782-1324-4f39-9bd4-88aa2e8fb453",
   "metadata": {},
   "outputs": [
    {
     "data": {
      "text/plain": [
       "1"
      ]
     },
     "execution_count": 64,
     "metadata": {},
     "output_type": "execute_result"
    }
   ],
   "source": [
    "l.index(4)  #index funcation show the index number of the value"
   ]
  },
  {
   "cell_type": "code",
   "execution_count": 72,
   "id": "f1ca7ff7-b1e9-4b8f-896a-4117de239d26",
   "metadata": {},
   "outputs": [],
   "source": [
    "l.insert(1,2)"
   ]
  },
  {
   "cell_type": "code",
   "execution_count": 68,
   "id": "7a46279e-9c13-4c09-9bd6-61e47457baab",
   "metadata": {},
   "outputs": [
    {
     "data": {
      "text/plain": [
       "[3, 2, 4, 5]"
      ]
     },
     "execution_count": 68,
     "metadata": {},
     "output_type": "execute_result"
    }
   ],
   "source": [
    "l"
   ]
  },
  {
   "cell_type": "code",
   "execution_count": 76,
   "id": "49a3fe52-2f56-4d7e-b513-67810940469e",
   "metadata": {},
   "outputs": [],
   "source": [
    "l1=[1,2,3,4,5]"
   ]
  },
  {
   "cell_type": "code",
   "execution_count": 78,
   "id": "040017b8-3c97-4eb3-b6c8-31240dbdca19",
   "metadata": {},
   "outputs": [
    {
     "data": {
      "text/plain": [
       "[1, 2, 3, 4, 5]"
      ]
     },
     "execution_count": 78,
     "metadata": {},
     "output_type": "execute_result"
    }
   ],
   "source": [
    "l1"
   ]
  },
  {
   "cell_type": "code",
   "execution_count": 82,
   "id": "2a8a3002-6dac-4c2e-8a31-bbab7a0b1589",
   "metadata": {},
   "outputs": [
    {
     "data": {
      "text/plain": [
       "[5, 4, 3, 2, 1]"
      ]
     },
     "execution_count": 82,
     "metadata": {},
     "output_type": "execute_result"
    }
   ],
   "source": [
    "l1[::-1]"
   ]
  },
  {
   "cell_type": "code",
   "execution_count": 84,
   "id": "2644432a-a719-4f94-baab-a1a630db8165",
   "metadata": {},
   "outputs": [],
   "source": [
    "l1.reverse()"
   ]
  },
  {
   "cell_type": "code",
   "execution_count": 89,
   "id": "0779919d-6187-4737-9591-5ae0b745e43d",
   "metadata": {},
   "outputs": [
    {
     "data": {
      "text/plain": [
       "[5, 4, 3, 2, 1]"
      ]
     },
     "execution_count": 89,
     "metadata": {},
     "output_type": "execute_result"
    }
   ],
   "source": [
    "l1"
   ]
  },
  {
   "cell_type": "code",
   "execution_count": 102,
   "id": "e59d0bda-ce09-4b90-a5f9-a7adc498bee8",
   "metadata": {},
   "outputs": [],
   "source": [
    "l_copy =l.copy() #deep copy"
   ]
  },
  {
   "cell_type": "code",
   "execution_count": 104,
   "id": "ebf10647-9600-47b7-9a39-63c23429e4b9",
   "metadata": {},
   "outputs": [
    {
     "data": {
      "text/plain": [
       "[3, 2, 2, 4, 5]"
      ]
     },
     "execution_count": 104,
     "metadata": {},
     "output_type": "execute_result"
    }
   ],
   "source": [
    "l_copy"
   ]
  },
  {
   "cell_type": "code",
   "execution_count": 106,
   "id": "1c48ada4-8986-4ef6-9e1c-28a680fb3266",
   "metadata": {},
   "outputs": [],
   "source": [
    "names_copy = names  #shallow_copy"
   ]
  },
  {
   "cell_type": "code",
   "execution_count": 108,
   "id": "9ceab4b5-f080-4b81-a07c-415ebb9fcc73",
   "metadata": {},
   "outputs": [
    {
     "data": {
      "text/plain": [
       "('om', 'sham', 'ramesh', 'suresh')"
      ]
     },
     "execution_count": 108,
     "metadata": {},
     "output_type": "execute_result"
    }
   ],
   "source": [
    "names_copy"
   ]
  },
  {
   "cell_type": "markdown",
   "id": "fc0d71e2-9348-4cdf-a74f-4a7e3f41251f",
   "metadata": {},
   "source": [
    "# tuple"
   ]
  },
  {
   "cell_type": "code",
   "execution_count": 125,
   "id": "ab6a5030-fd4f-419e-93d2-a95c117f40ee",
   "metadata": {},
   "outputs": [],
   "source": [
    "#Tuple is written in paranthesis().\n",
    "#tuple is immutable/unchanfeble."
   ]
  },
  {
   "cell_type": "code",
   "execution_count": 115,
   "id": "8b6a688f-0eaf-4915-af6b-c85c944f0713",
   "metadata": {},
   "outputs": [],
   "source": [
    "t = (1,2,3,4)"
   ]
  },
  {
   "cell_type": "code",
   "execution_count": 117,
   "id": "cf157401-2c6d-4a9f-9e7d-36c95db98bda",
   "metadata": {},
   "outputs": [
    {
     "data": {
      "text/plain": [
       "(1, 2, 3, 4)"
      ]
     },
     "execution_count": 117,
     "metadata": {},
     "output_type": "execute_result"
    }
   ],
   "source": [
    "t"
   ]
  },
  {
   "cell_type": "code",
   "execution_count": 119,
   "id": "a94488cc-6274-4ccf-9e0d-11582b370b82",
   "metadata": {},
   "outputs": [],
   "source": [
    "# How to access dataset from tuple"
   ]
  },
  {
   "cell_type": "code",
   "execution_count": 121,
   "id": "d54645be-5b33-4c9c-a059-e3fc9e1b410f",
   "metadata": {},
   "outputs": [
    {
     "data": {
      "text/plain": [
       "1"
      ]
     },
     "execution_count": 121,
     "metadata": {},
     "output_type": "execute_result"
    }
   ],
   "source": [
    "t[0]"
   ]
  },
  {
   "cell_type": "code",
   "execution_count": 129,
   "id": "c6cb0ae4-a802-4665-a7c9-775d8fded406",
   "metadata": {},
   "outputs": [
    {
     "data": {
      "text/plain": [
       "1"
      ]
     },
     "execution_count": 129,
     "metadata": {},
     "output_type": "execute_result"
    }
   ],
   "source": [
    "t.count(1)"
   ]
  },
  {
   "cell_type": "code",
   "execution_count": 131,
   "id": "c45a8822-57c0-4267-bba0-cfcf8cb0470f",
   "metadata": {},
   "outputs": [
    {
     "data": {
      "text/plain": [
       "1"
      ]
     },
     "execution_count": 131,
     "metadata": {},
     "output_type": "execute_result"
    }
   ],
   "source": [
    "t.index(2)"
   ]
  },
  {
   "cell_type": "code",
   "execution_count": 133,
   "id": "88a277e3-d2d5-47a4-ac61-9e3a9eeb7e45",
   "metadata": {},
   "outputs": [],
   "source": [
    " d=('hello','python',10)"
   ]
  },
  {
   "cell_type": "code",
   "execution_count": 135,
   "id": "4ee51186-cb4e-40b0-9e57-fc54f82cc337",
   "metadata": {},
   "outputs": [
    {
     "data": {
      "text/plain": [
       "('hello', 'python', 10)"
      ]
     },
     "execution_count": 135,
     "metadata": {},
     "output_type": "execute_result"
    }
   ],
   "source": [
    "d"
   ]
  },
  {
   "cell_type": "code",
   "execution_count": 137,
   "id": "d32db181-d039-465d-b8eb-5ec0dc608b24",
   "metadata": {},
   "outputs": [],
   "source": [
    "# convert tuple --> List data set"
   ]
  },
  {
   "cell_type": "code",
   "execution_count": 139,
   "id": "170218df-f929-4f1e-8185-2a3878198aa5",
   "metadata": {},
   "outputs": [
    {
     "data": {
      "text/plain": [
       "['hello', 'python', 10]"
      ]
     },
     "execution_count": 139,
     "metadata": {},
     "output_type": "execute_result"
    }
   ],
   "source": [
    "list(d)"
   ]
  },
  {
   "cell_type": "code",
   "execution_count": 141,
   "id": "103799e5-3772-4385-afbd-d3a15e9e32a9",
   "metadata": {},
   "outputs": [],
   "source": [
    "#List --> tuple"
   ]
  },
  {
   "cell_type": "code",
   "execution_count": 143,
   "id": "8b3bf0b5-6410-4443-a63d-42bcb817bde6",
   "metadata": {},
   "outputs": [
    {
     "data": {
      "text/plain": [
       "('hello', 'python', 10)"
      ]
     },
     "execution_count": 143,
     "metadata": {},
     "output_type": "execute_result"
    }
   ],
   "source": [
    "tuple(d)"
   ]
  },
  {
   "cell_type": "code",
   "execution_count": 147,
   "id": "8d1ab6e9-87ee-4783-bfe4-2d92e799ac7c",
   "metadata": {},
   "outputs": [
    {
     "data": {
      "text/plain": [
       "('hello', 'python', 10, 'hello', 'python', 10, 'hello', 'python', 10)"
      ]
     },
     "execution_count": 147,
     "metadata": {},
     "output_type": "execute_result"
    }
   ],
   "source": [
    "d*3"
   ]
  },
  {
   "cell_type": "code",
   "execution_count": 149,
   "id": "3bcdd476-3569-4dd9-9180-22a298226a23",
   "metadata": {},
   "outputs": [],
   "source": [
    "# Nusted tuple"
   ]
  },
  {
   "cell_type": "code",
   "execution_count": 151,
   "id": "8b909216-ad89-4da4-8c4f-b1bcf2ce5314",
   "metadata": {},
   "outputs": [],
   "source": [
    "k=(10,202,30,(100,200,300),40,50)"
   ]
  },
  {
   "cell_type": "code",
   "execution_count": 153,
   "id": "dbf871bd-a5c3-4510-a792-7008c7c4710a",
   "metadata": {},
   "outputs": [
    {
     "data": {
      "text/plain": [
       "(10, 202, 30, (100, 200, 300), 40, 50)"
      ]
     },
     "execution_count": 153,
     "metadata": {},
     "output_type": "execute_result"
    }
   ],
   "source": [
    "k"
   ]
  },
  {
   "cell_type": "code",
   "execution_count": 155,
   "id": "e298ef02-b657-47f9-b9da-d5465f77f9ae",
   "metadata": {},
   "outputs": [
    {
     "data": {
      "text/plain": [
       "(100, 200, 300)"
      ]
     },
     "execution_count": 155,
     "metadata": {},
     "output_type": "execute_result"
    }
   ],
   "source": [
    "k[3]"
   ]
  },
  {
   "cell_type": "code",
   "execution_count": 157,
   "id": "5fddb2eb-6639-4e56-8f3f-d881456bf546",
   "metadata": {},
   "outputs": [
    {
     "data": {
      "text/plain": [
       "300"
      ]
     },
     "execution_count": 157,
     "metadata": {},
     "output_type": "execute_result"
    }
   ],
   "source": [
    "k[3][2]"
   ]
  },
  {
   "cell_type": "code",
   "execution_count": 159,
   "id": "8977071a-b560-4096-8cca-b396f2f3b4ac",
   "metadata": {},
   "outputs": [
    {
     "data": {
      "text/plain": [
       "[10, 202, 30, (100, 200, 300), 40, 50]"
      ]
     },
     "execution_count": 159,
     "metadata": {},
     "output_type": "execute_result"
    }
   ],
   "source": [
    " list(k)"
   ]
  },
  {
   "cell_type": "code",
   "execution_count": null,
   "id": "2a9eb590-84a3-4bff-83c5-c6bb639cf5fc",
   "metadata": {},
   "outputs": [],
   "source": []
  }
 ],
 "metadata": {
  "kernelspec": {
   "display_name": "Python 3 (ipykernel)",
   "language": "python",
   "name": "python3"
  },
  "language_info": {
   "codemirror_mode": {
    "name": "ipython",
    "version": 3
   },
   "file_extension": ".py",
   "mimetype": "text/x-python",
   "name": "python",
   "nbconvert_exporter": "python",
   "pygments_lexer": "ipython3",
   "version": "3.12.7"
  }
 },
 "nbformat": 4,
 "nbformat_minor": 5
}
