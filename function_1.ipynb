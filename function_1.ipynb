{
 "cells": [
  {
   "cell_type": "markdown",
   "id": "a9561a3b-4ef5-4d2f-bd8c-6b6201d8485f",
   "metadata": {},
   "source": [
    "# function"
   ]
  },
  {
   "cell_type": "code",
   "execution_count": null,
   "id": "9d8a5250-e324-48bf-bace-e2012c87a28d",
   "metadata": {},
   "outputs": [],
   "source": [
    "#function perform the specific task / block of codes"
   ]
  },
  {
   "cell_type": "code",
   "execution_count": 5,
   "id": "6b46902d-294f-43b4-98f4-5f8e68ff012d",
   "metadata": {},
   "outputs": [],
   "source": [
    "def test():\n",
    "    print('i an test function')"
   ]
  },
  {
   "cell_type": "code",
   "execution_count": 7,
   "id": "e5dfa9f5-00e8-41db-b4fe-cde115a63013",
   "metadata": {},
   "outputs": [
    {
     "name": "stdout",
     "output_type": "stream",
     "text": [
      "i an test function\n"
     ]
    }
   ],
   "source": [
    "test()"
   ]
  },
  {
   "cell_type": "code",
   "execution_count": 9,
   "id": "1f3ee7b4-0b21-4315-91b8-374ec4b21988",
   "metadata": {},
   "outputs": [],
   "source": [
    "def sum(x,y):\n",
    "    '''this is sum function.\n",
    "    sum function is going to add x and y value.\n",
    "    you have pass values for x and y.'''\n",
    "    print(x+y)"
   ]
  },
  {
   "cell_type": "code",
   "execution_count": 11,
   "id": "9f24df11-e0a7-4798-9bf6-1afacd0b819e",
   "metadata": {},
   "outputs": [
    {
     "name": "stdout",
     "output_type": "stream",
     "text": [
      "3\n"
     ]
    }
   ],
   "source": [
    "sum(1,2)"
   ]
  },
  {
   "cell_type": "code",
   "execution_count": 13,
   "id": "93b65ae4-d7bc-4f38-829e-76b721e13c7d",
   "metadata": {},
   "outputs": [],
   "source": [
    "def banner():\n",
    "    print('this is banner of data science')"
   ]
  },
  {
   "cell_type": "code",
   "execution_count": 15,
   "id": "832c6b34-2e58-4423-8416-9b0e74ed32b3",
   "metadata": {},
   "outputs": [
    {
     "name": "stdout",
     "output_type": "stream",
     "text": [
      "this is banner of data science\n"
     ]
    }
   ],
   "source": [
    "banner()"
   ]
  },
  {
   "cell_type": "code",
   "execution_count": 17,
   "id": "0ad63eb2-30bc-4f4b-ba3c-9e4019ed76c8",
   "metadata": {},
   "outputs": [
    {
     "name": "stdout",
     "output_type": "stream",
     "text": [
      "3\n"
     ]
    },
    {
     "data": {
      "text/plain": [
       "NoneType"
      ]
     },
     "execution_count": 17,
     "metadata": {},
     "output_type": "execute_result"
    }
   ],
   "source": [
    "type(sum(1,2))"
   ]
  },
  {
   "cell_type": "code",
   "execution_count": 21,
   "id": "ed578d96-9db2-4f29-8588-cf7a96776309",
   "metadata": {},
   "outputs": [],
   "source": [
    "def addition(x,y):\n",
    "    return x + y"
   ]
  },
  {
   "cell_type": "code",
   "execution_count": 23,
   "id": "deb115b2-f247-4183-b32d-239a9e4136e9",
   "metadata": {},
   "outputs": [
    {
     "data": {
      "text/plain": [
       "3"
      ]
     },
     "execution_count": 23,
     "metadata": {},
     "output_type": "execute_result"
    }
   ],
   "source": [
    "addition (1,2)"
   ]
  },
  {
   "cell_type": "code",
   "execution_count": 25,
   "id": "a59cb08c-9ab6-4e14-9f15-dc7f87052246",
   "metadata": {},
   "outputs": [
    {
     "data": {
      "text/plain": [
       "int"
      ]
     },
     "execution_count": 25,
     "metadata": {},
     "output_type": "execute_result"
    }
   ],
   "source": [
    "type(addition (1,2))"
   ]
  },
  {
   "cell_type": "code",
   "execution_count": 29,
   "id": "a248f3de-6d4d-482d-90d6-84991725a70e",
   "metadata": {},
   "outputs": [],
   "source": [
    "#diff b/w print and return ?\n",
    "> print: printing adjects inside print.\n",
    "    print is none type output\n",
    "    print(100) -> none\n",
    ">return: return used for writing actual data.\n",
    "    return is having actual data type.\n",
    "    return (100) -> int."
   ]
  },
  {
   "cell_type": "code",
   "execution_count": 31,
   "id": "3fc4c4f2-5f3c-4d45-908d-53ef0aebc3ed",
   "metadata": {},
   "outputs": [],
   "source": [
    "def multiplication(x,y):\n",
    "    return x*y"
   ]
  },
  {
   "cell_type": "code",
   "execution_count": 33,
   "id": "62d8f8dd-9756-479f-a840-f19f7f68eea6",
   "metadata": {},
   "outputs": [
    {
     "data": {
      "text/plain": [
       "50"
      ]
     },
     "execution_count": 33,
     "metadata": {},
     "output_type": "execute_result"
    }
   ],
   "source": [
    "multiplication(10,5)"
   ]
  },
  {
   "cell_type": "code",
   "execution_count": 35,
   "id": "27ee820c-e511-4063-9282-c0d2f435b7d6",
   "metadata": {},
   "outputs": [],
   "source": [
    "# function for square"
   ]
  },
  {
   "cell_type": "code",
   "execution_count": 37,
   "id": "f58097f3-3dc5-4d70-8af0-3f63272d4618",
   "metadata": {},
   "outputs": [],
   "source": [
    "def square(x):\n",
    "    return x*x"
   ]
  },
  {
   "cell_type": "code",
   "execution_count": 39,
   "id": "cef37aa8-c321-4737-9132-060778a21622",
   "metadata": {},
   "outputs": [
    {
     "data": {
      "text/plain": [
       "25"
      ]
     },
     "execution_count": 39,
     "metadata": {},
     "output_type": "execute_result"
    }
   ],
   "source": [
    "square(5)"
   ]
  },
  {
   "cell_type": "code",
   "execution_count": 41,
   "id": "9b5cbec7-ca7e-4a1f-b19e-b4894c546731",
   "metadata": {},
   "outputs": [],
   "source": [
    "#function for checking even or odd"
   ]
  },
  {
   "cell_type": "code",
   "execution_count": 43,
   "id": "c61d60f4-2e82-429b-8328-5fbbb22cff58",
   "metadata": {},
   "outputs": [],
   "source": [
    "def even_odd(a):\n",
    "    if a % 2 == 0:\n",
    "        return 'number is even' ,a\n",
    "    else:\n",
    "        return 'number is odd' ,a"
   ]
  },
  {
   "cell_type": "code",
   "execution_count": 45,
   "id": "539f30a8-3c31-4faf-b069-89b8a79f43bb",
   "metadata": {},
   "outputs": [
    {
     "data": {
      "text/plain": [
       "('number is odd', 9)"
      ]
     },
     "execution_count": 45,
     "metadata": {},
     "output_type": "execute_result"
    }
   ],
   "source": [
    "even_odd(9)"
   ]
  },
  {
   "cell_type": "code",
   "execution_count": 47,
   "id": "f7374d3e-682d-4d14-a8ca-b9793b49c63d",
   "metadata": {},
   "outputs": [
    {
     "data": {
      "text/plain": [
       "('number is even', 2)"
      ]
     },
     "execution_count": 47,
     "metadata": {},
     "output_type": "execute_result"
    }
   ],
   "source": [
    "even_odd(2)"
   ]
  },
  {
   "cell_type": "code",
   "execution_count": 51,
   "id": "93599779-d646-403a-839e-28b2a33d063d",
   "metadata": {},
   "outputs": [],
   "source": [
    "def table (x):\n",
    "    for i in range (1,11):\n",
    "        print(i*x)"
   ]
  },
  {
   "cell_type": "code",
   "execution_count": 53,
   "id": "352a6f30-6b4a-476c-a4fd-c62f4c8e8092",
   "metadata": {},
   "outputs": [
    {
     "name": "stdout",
     "output_type": "stream",
     "text": [
      "5\n",
      "10\n",
      "15\n",
      "20\n",
      "25\n",
      "30\n",
      "35\n",
      "40\n",
      "45\n",
      "50\n"
     ]
    }
   ],
   "source": [
    "table(5)"
   ]
  },
  {
   "cell_type": "code",
   "execution_count": 55,
   "id": "5c63c992-b12b-4f9b-bcfa-c850135c1489",
   "metadata": {},
   "outputs": [
    {
     "name": "stdout",
     "output_type": "stream",
     "text": [
      "1\n",
      "2\n",
      "3\n",
      "4\n",
      "5\n",
      "6\n",
      "7\n",
      "8\n",
      "9\n",
      "10\n"
     ]
    }
   ],
   "source": [
    "for i in range (1,11):\n",
    "    print(i)"
   ]
  },
  {
   "cell_type": "code",
   "execution_count": null,
   "id": "3c307fea-3494-4d1b-be14-c1591a225e9b",
   "metadata": {},
   "outputs": [],
   "source": []
  }
 ],
 "metadata": {
  "kernelspec": {
   "display_name": "Python 3 (ipykernel)",
   "language": "python",
   "name": "python3"
  },
  "language_info": {
   "codemirror_mode": {
    "name": "ipython",
    "version": 3
   },
   "file_extension": ".py",
   "mimetype": "text/x-python",
   "name": "python",
   "nbconvert_exporter": "python",
   "pygments_lexer": "ipython3",
   "version": "3.12.7"
  }
 },
 "nbformat": 4,
 "nbformat_minor": 5
}
