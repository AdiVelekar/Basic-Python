{
 "cells": [
  {
   "cell_type": "markdown",
   "id": "796525fa-b66d-440e-8399-fdaadd1974e6",
   "metadata": {},
   "source": [
    "# If_else"
   ]
  },
  {
   "cell_type": "code",
   "execution_count": 5,
   "id": "d62a5598-9b74-49ea-b19f-37f8c3011f7c",
   "metadata": {},
   "outputs": [
    {
     "name": "stdout",
     "output_type": "stream",
     "text": [
      "not greater\n"
     ]
    }
   ],
   "source": [
    "if 10 < 5:\n",
    "    print('greater')\n",
    "else:\n",
    "    print('not greater')"
   ]
  },
  {
   "cell_type": "code",
   "execution_count": 9,
   "id": "c9e8aea8-3790-4555-bf0e-6abfee9abc2d",
   "metadata": {},
   "outputs": [
    {
     "name": "stdout",
     "output_type": "stream",
     "text": [
      "pass\n"
     ]
    }
   ],
   "source": [
    "marks = 45\n",
    "if marks > 35:\n",
    "    print('pass')\n",
    "else:\n",
    "    print('fail')"
   ]
  },
  {
   "cell_type": "code",
   "execution_count": 13,
   "id": "e9761228-9515-424b-8b11-1be50d1a4bdc",
   "metadata": {},
   "outputs": [
    {
     "name": "stdout",
     "output_type": "stream",
     "text": [
      "family get angry on me\n"
     ]
    }
   ],
   "source": [
    "time = 12\n",
    "if time < 9 :\n",
    "    print('normal in house')\n",
    "else: \n",
    "    print('family get angry on me')"
   ]
  },
  {
   "cell_type": "code",
   "execution_count": 15,
   "id": "f7dd0d4e-e98d-4f5f-919d-6b5d15fdd31d",
   "metadata": {},
   "outputs": [],
   "source": [
    "# code for checking name"
   ]
  },
  {
   "cell_type": "code",
   "execution_count": 27,
   "id": "837223bf-209f-47ec-8333-708add451dc7",
   "metadata": {},
   "outputs": [
    {
     "name": "stdin",
     "output_type": "stream",
     "text": [
      "Enter your name Rahul\n"
     ]
    },
    {
     "name": "stdout",
     "output_type": "stream",
     "text": [
      "correct\n"
     ]
    }
   ],
   "source": [
    "name = input('Enter your name')\n",
    "\n",
    "if name == 'Rahul':\n",
    "    print('correct')\n",
    "else:\n",
    "    print('name is wrong')"
   ]
  },
  {
   "cell_type": "code",
   "execution_count": null,
   "id": "6b58d7ad-8756-4249-8920-1e85b3088333",
   "metadata": {},
   "outputs": [],
   "source": []
  },
  {
   "cell_type": "code",
   "execution_count": null,
   "id": "cef78b7c-faa9-4088-af8d-d50bb21c0756",
   "metadata": {},
   "outputs": [],
   "source": []
  }
 ],
 "metadata": {
  "kernelspec": {
   "display_name": "Python 3 (ipykernel)",
   "language": "python",
   "name": "python3"
  },
  "language_info": {
   "codemirror_mode": {
    "name": "ipython",
    "version": 3
   },
   "file_extension": ".py",
   "mimetype": "text/x-python",
   "name": "python",
   "nbconvert_exporter": "python",
   "pygments_lexer": "ipython3",
   "version": "3.12.7"
  }
 },
 "nbformat": 4,
 "nbformat_minor": 5
}
