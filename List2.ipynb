{
 "cells": [
  {
   "cell_type": "code",
   "execution_count": 4,
   "id": "3cfa3955-39f5-461a-a595-1d5eb1368bc6",
   "metadata": {},
   "outputs": [],
   "source": [
    "l=[1,2,3,4,5,6,7,8]"
   ]
  },
  {
   "cell_type": "code",
   "execution_count": 6,
   "id": "d4e56b1d-cfa1-4e3c-8d53-f917d19763eb",
   "metadata": {},
   "outputs": [],
   "source": [
    "# Slice this list 1 to 4 numbers"
   ]
  },
  {
   "cell_type": "code",
   "execution_count": 8,
   "id": "e6b48b67-8c97-4b70-8650-eccdc5c01b95",
   "metadata": {},
   "outputs": [
    {
     "data": {
      "text/plain": [
       "[1, 2, 3, 4]"
      ]
     },
     "execution_count": 8,
     "metadata": {},
     "output_type": "execute_result"
    }
   ],
   "source": [
    "l[0:4]"
   ]
  },
  {
   "cell_type": "code",
   "execution_count": 10,
   "id": "38d02b73-666a-4c32-b061-edb9a2f7fac8",
   "metadata": {},
   "outputs": [],
   "source": [
    "names=['om','sham','ramesh','suresh']"
   ]
  },
  {
   "cell_type": "code",
   "execution_count": 12,
   "id": "7cbbd3a4-06e0-4cf5-a9a1-17c569312d1b",
   "metadata": {},
   "outputs": [
    {
     "data": {
      "text/plain": [
       "['om', 'sham', 'ramesh']"
      ]
     },
     "execution_count": 12,
     "metadata": {},
     "output_type": "execute_result"
    }
   ],
   "source": [
    "names[0:3]"
   ]
  },
  {
   "cell_type": "code",
   "execution_count": 14,
   "id": "0af55cde-60bb-4eec-977c-519fd34f680f",
   "metadata": {},
   "outputs": [
    {
     "data": {
      "text/plain": [
       "['sham', 'ramesh']"
      ]
     },
     "execution_count": 14,
     "metadata": {},
     "output_type": "execute_result"
    }
   ],
   "source": [
    "names[1:3]"
   ]
  },
  {
   "cell_type": "code",
   "execution_count": 16,
   "id": "3e8aca1a-927b-4a97-b492-123c20822f65",
   "metadata": {},
   "outputs": [
    {
     "data": {
      "text/plain": [
       "[1, 2, 3, 4, 5, 6, 7, 8]"
      ]
     },
     "execution_count": 16,
     "metadata": {},
     "output_type": "execute_result"
    }
   ],
   "source": [
    "l"
   ]
  },
  {
   "cell_type": "code",
   "execution_count": 18,
   "id": "6746765f-61db-46af-82c4-a8c183d34990",
   "metadata": {},
   "outputs": [
    {
     "data": {
      "text/plain": [
       "[3, 4, 5, 6]"
      ]
     },
     "execution_count": 18,
     "metadata": {},
     "output_type": "execute_result"
    }
   ],
   "source": [
    "l[2:6]"
   ]
  },
  {
   "cell_type": "code",
   "execution_count": 20,
   "id": "75d8ff18-698a-4a21-acc4-06c550ee97cb",
   "metadata": {},
   "outputs": [],
   "source": [
    "# last point has not considered"
   ]
  },
  {
   "cell_type": "code",
   "execution_count": 22,
   "id": "2b7040c1-0214-4a4c-954d-104b24e663ed",
   "metadata": {},
   "outputs": [
    {
     "data": {
      "text/plain": [
       "[1, 2, 3, 4]"
      ]
     },
     "execution_count": 22,
     "metadata": {},
     "output_type": "execute_result"
    }
   ],
   "source": [
    "l[0:4]"
   ]
  },
  {
   "cell_type": "code",
   "execution_count": 24,
   "id": "11bb1158-6b7b-438c-9099-da6f2a5dd9fb",
   "metadata": {},
   "outputs": [
    {
     "data": {
      "text/plain": [
       "[1, 2, 3, 4]"
      ]
     },
     "execution_count": 24,
     "metadata": {},
     "output_type": "execute_result"
    }
   ],
   "source": [
    "l[0:4:1] "
   ]
  },
  {
   "cell_type": "code",
   "execution_count": 26,
   "id": "80f13dde-e94a-4b32-907a-85c31331cd89",
   "metadata": {},
   "outputs": [
    {
     "data": {
      "text/plain": [
       "[1, 2, 3, 4, 5, 6, 7, 8]"
      ]
     },
     "execution_count": 26,
     "metadata": {},
     "output_type": "execute_result"
    }
   ],
   "source": [
    "l"
   ]
  },
  {
   "cell_type": "code",
   "execution_count": 28,
   "id": "b21cfd4d-e8a3-4e73-86ae-a1940c9a6df6",
   "metadata": {},
   "outputs": [
    {
     "data": {
      "text/plain": [
       "[1, 2, 3, 4, 5, 6, 7, 8]"
      ]
     },
     "execution_count": 28,
     "metadata": {},
     "output_type": "execute_result"
    }
   ],
   "source": [
    "l[:] # start to end all"
   ]
  },
  {
   "cell_type": "code",
   "execution_count": 30,
   "id": "744e88e3-e3c6-4096-a914-e3a4ecbf2f5d",
   "metadata": {},
   "outputs": [
    {
     "data": {
      "text/plain": [
       "[1, 3, 5, 7]"
      ]
     },
     "execution_count": 30,
     "metadata": {},
     "output_type": "execute_result"
    }
   ],
   "source": [
    "l[::2]"
   ]
  },
  {
   "cell_type": "code",
   "execution_count": 32,
   "id": "68101020-e46d-4c5f-a58d-1569dd130ff9",
   "metadata": {},
   "outputs": [
    {
     "data": {
      "text/plain": [
       "[2, 3, 4, 5, 6, 7, 8]"
      ]
     },
     "execution_count": 32,
     "metadata": {},
     "output_type": "execute_result"
    }
   ],
   "source": [
    "l[1:]"
   ]
  },
  {
   "cell_type": "code",
   "execution_count": 34,
   "id": "27d1c3ca-43c5-4b51-a446-05c3667edfff",
   "metadata": {},
   "outputs": [
    {
     "data": {
      "text/plain": [
       "[2, 4, 6, 8]"
      ]
     },
     "execution_count": 34,
     "metadata": {},
     "output_type": "execute_result"
    }
   ],
   "source": [
    "l[1::2]"
   ]
  },
  {
   "cell_type": "code",
   "execution_count": 38,
   "id": "5ac8da23-0e96-45fb-a26f-cd257b30efc4",
   "metadata": {},
   "outputs": [
    {
     "data": {
      "text/plain": [
       "[8, 7, 6, 5, 4, 3, 2]"
      ]
     },
     "execution_count": 38,
     "metadata": {},
     "output_type": "execute_result"
    }
   ],
   "source": [
    "l[7:0:-1]"
   ]
  },
  {
   "cell_type": "code",
   "execution_count": 40,
   "id": "b9b33eb7-a8fa-4cb2-ab18-82355d40e115",
   "metadata": {},
   "outputs": [
    {
     "data": {
      "text/plain": [
       "[8, 7, 6, 5, 4, 3, 2, 1]"
      ]
     },
     "execution_count": 40,
     "metadata": {},
     "output_type": "execute_result"
    }
   ],
   "source": [
    "l[7::-1] # All data in reverse order"
   ]
  },
  {
   "cell_type": "code",
   "execution_count": 44,
   "id": "03d0f20f-6899-420b-aa65-c5586344600c",
   "metadata": {},
   "outputs": [
    {
     "data": {
      "text/plain": [
       "[8, 5, 2]"
      ]
     },
     "execution_count": 44,
     "metadata": {},
     "output_type": "execute_result"
    }
   ],
   "source": [
    "l[::-3]"
   ]
  },
  {
   "cell_type": "code",
   "execution_count": 46,
   "id": "646a180d-4c81-46ae-b98f-e7eefc97d21d",
   "metadata": {},
   "outputs": [
    {
     "data": {
      "text/plain": [
       "[1, 2, 3, 4, 5, 6, 7, 8]"
      ]
     },
     "execution_count": 46,
     "metadata": {},
     "output_type": "execute_result"
    }
   ],
   "source": [
    "l"
   ]
  },
  {
   "cell_type": "code",
   "execution_count": 48,
   "id": "c369e01c-7237-409c-a000-3d7b3b149af1",
   "metadata": {},
   "outputs": [
    {
     "data": {
      "text/plain": [
       "[8, 7, 6, 5]"
      ]
     },
     "execution_count": 48,
     "metadata": {},
     "output_type": "execute_result"
    }
   ],
   "source": [
    "l[7:3:-1]"
   ]
  },
  {
   "cell_type": "code",
   "execution_count": 50,
   "id": "60643c9e-fed3-4f69-b7b9-e8fe0e03fb66",
   "metadata": {},
   "outputs": [
    {
     "data": {
      "text/plain": [
       "8"
      ]
     },
     "execution_count": 50,
     "metadata": {},
     "output_type": "execute_result"
    }
   ],
   "source": [
    "l[-1]"
   ]
  },
  {
   "cell_type": "code",
   "execution_count": 52,
   "id": "582288af-c539-412c-bc5c-70b4ed6f7d90",
   "metadata": {},
   "outputs": [
    {
     "data": {
      "text/plain": [
       "7"
      ]
     },
     "execution_count": 52,
     "metadata": {},
     "output_type": "execute_result"
    }
   ],
   "source": [
    "l[-2]"
   ]
  },
  {
   "cell_type": "raw",
   "id": "a3bf06ab-cfd1-483c-a560-7c5810dbf309",
   "metadata": {},
   "source": [
    "* Reverse this list by using sliceling operation\n",
    ">l[::-1]"
   ]
  },
  {
   "cell_type": "code",
   "execution_count": 55,
   "id": "1910d2ac-cfb5-4c04-87f5-18fcdbe07c09",
   "metadata": {},
   "outputs": [
    {
     "data": {
      "text/plain": [
       "['om', 'sham', 'ramesh', 'suresh']"
      ]
     },
     "execution_count": 55,
     "metadata": {},
     "output_type": "execute_result"
    }
   ],
   "source": [
    "names"
   ]
  },
  {
   "cell_type": "code",
   "execution_count": 59,
   "id": "9da64182-0950-4478-b025-6f0322e7246f",
   "metadata": {},
   "outputs": [
    {
     "data": {
      "text/plain": [
       "['suresh', 'ramesh', 'sham', 'om']"
      ]
     },
     "execution_count": 59,
     "metadata": {},
     "output_type": "execute_result"
    }
   ],
   "source": [
    "names[::-1]"
   ]
  },
  {
   "cell_type": "code",
   "execution_count": null,
   "id": "d5d9228d-96b9-4468-95f2-c1394dc50104",
   "metadata": {},
   "outputs": [],
   "source": []
  }
 ],
 "metadata": {
  "kernelspec": {
   "display_name": "Python 3 (ipykernel)",
   "language": "python",
   "name": "python3"
  },
  "language_info": {
   "codemirror_mode": {
    "name": "ipython",
    "version": 3
   },
   "file_extension": ".py",
   "mimetype": "text/x-python",
   "name": "python",
   "nbconvert_exporter": "python",
   "pygments_lexer": "ipython3",
   "version": "3.12.7"
  }
 },
 "nbformat": 4,
 "nbformat_minor": 5
}
