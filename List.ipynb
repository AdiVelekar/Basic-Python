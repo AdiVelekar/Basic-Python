{
 "cells": [
  {
   "cell_type": "markdown",
   "id": "ad4d69ee-89e4-46b2-b1cf-203101ab03d0",
   "metadata": {},
   "source": [
    "# List"
   ]
  },
  {
   "cell_type": "raw",
   "id": "b938d42c-71c6-427c-ae44-524bc584dd9c",
   "metadata": {},
   "source": [
    "list is written in square bracket[]"
   ]
  },
  {
   "cell_type": "code",
   "execution_count": 3,
   "id": "b8f4c78e-cb6d-4d98-b0b1-f6599e4b5db1",
   "metadata": {},
   "outputs": [],
   "source": [
    "numbers = [1,2,3,4,5]"
   ]
  },
  {
   "cell_type": "code",
   "execution_count": 5,
   "id": "81a5d218-0e6c-4544-a0d1-b2a89f320aa7",
   "metadata": {},
   "outputs": [
    {
     "data": {
      "text/plain": [
       "[1, 2, 3, 4, 5]"
      ]
     },
     "execution_count": 5,
     "metadata": {},
     "output_type": "execute_result"
    }
   ],
   "source": [
    "numbers"
   ]
  },
  {
   "cell_type": "code",
   "execution_count": 7,
   "id": "ef4fa810-7063-430e-acd6-670cb505e637",
   "metadata": {},
   "outputs": [],
   "source": [
    "name= ['ram','sham','ramesh','suresh']"
   ]
  },
  {
   "cell_type": "code",
   "execution_count": 9,
   "id": "d4cacb4d-c4ef-4929-94fa-41117d3904b7",
   "metadata": {},
   "outputs": [
    {
     "data": {
      "text/plain": [
       "['ram', 'sham', 'ramesh', 'suresh']"
      ]
     },
     "execution_count": 9,
     "metadata": {},
     "output_type": "execute_result"
    }
   ],
   "source": [
    "name"
   ]
  },
  {
   "cell_type": "code",
   "execution_count": 11,
   "id": "88ab4cbb-f851-401f-8300-29d3e2d58277",
   "metadata": {},
   "outputs": [],
   "source": [
    "mix_data=[1,10.5,10+5j,'hello',True]"
   ]
  },
  {
   "cell_type": "code",
   "execution_count": 13,
   "id": "d5045ed7-8a1d-45bb-89e2-dbeed599efbb",
   "metadata": {},
   "outputs": [
    {
     "data": {
      "text/plain": [
       "[1, 10.5, (10+5j), 'hello', True]"
      ]
     },
     "execution_count": 13,
     "metadata": {},
     "output_type": "execute_result"
    }
   ],
   "source": [
    "mix_data"
   ]
  },
  {
   "cell_type": "raw",
   "id": "338bc7d2-695e-4b53-a88d-7181a981c99d",
   "metadata": {},
   "source": [
    "# Indexing"
   ]
  },
  {
   "cell_type": "code",
   "execution_count": 19,
   "id": "db0775ee-d266-4620-b876-3e63116cc777",
   "metadata": {},
   "outputs": [
    {
     "data": {
      "text/plain": [
       "[1, 2, 3, 4, 5]"
      ]
     },
     "execution_count": 19,
     "metadata": {},
     "output_type": "execute_result"
    }
   ],
   "source": [
    "numbers"
   ]
  },
  {
   "cell_type": "code",
   "execution_count": 21,
   "id": "725e3995-3341-4f13-b582-033b3784e4af",
   "metadata": {},
   "outputs": [
    {
     "data": {
      "text/plain": [
       "3"
      ]
     },
     "execution_count": 21,
     "metadata": {},
     "output_type": "execute_result"
    }
   ],
   "source": [
    "numbers[2]"
   ]
  },
  {
   "cell_type": "code",
   "execution_count": 23,
   "id": "52a2f39d-5616-4fd8-b642-ff3f9758c2bc",
   "metadata": {},
   "outputs": [
    {
     "data": {
      "text/plain": [
       "['ram', 'sham', 'ramesh', 'suresh']"
      ]
     },
     "execution_count": 23,
     "metadata": {},
     "output_type": "execute_result"
    }
   ],
   "source": [
    "name"
   ]
  },
  {
   "cell_type": "code",
   "execution_count": 25,
   "id": "232cf45d-ff12-411f-b55d-775f3cb6c729",
   "metadata": {},
   "outputs": [
    {
     "data": {
      "text/plain": [
       "'suresh'"
      ]
     },
     "execution_count": 25,
     "metadata": {},
     "output_type": "execute_result"
    }
   ],
   "source": [
    "name[3]"
   ]
  },
  {
   "cell_type": "code",
   "execution_count": 27,
   "id": "981a0d44-5054-401d-a061-ea8781afc496",
   "metadata": {},
   "outputs": [
    {
     "data": {
      "text/plain": [
       "'sham'"
      ]
     },
     "execution_count": 27,
     "metadata": {},
     "output_type": "execute_result"
    }
   ],
   "source": [
    "name[1]"
   ]
  },
  {
   "cell_type": "code",
   "execution_count": 29,
   "id": "d7ce0b5f-354d-4fa0-ae4e-be869f5e165b",
   "metadata": {},
   "outputs": [
    {
     "data": {
      "text/plain": [
       "[1, 10.5, (10+5j), 'hello', True]"
      ]
     },
     "execution_count": 29,
     "metadata": {},
     "output_type": "execute_result"
    }
   ],
   "source": [
    "mix_data"
   ]
  },
  {
   "cell_type": "code",
   "execution_count": 31,
   "id": "d85f552a-d842-4572-8f7f-99908c8cd720",
   "metadata": {},
   "outputs": [
    {
     "data": {
      "text/plain": [
       "'hello'"
      ]
     },
     "execution_count": 31,
     "metadata": {},
     "output_type": "execute_result"
    }
   ],
   "source": [
    "mix_data[3]"
   ]
  },
  {
   "cell_type": "code",
   "execution_count": null,
   "id": "e4686f39-d903-456c-9d5e-45e6c1bf02ca",
   "metadata": {},
   "outputs": [],
   "source": []
  }
 ],
 "metadata": {
  "kernelspec": {
   "display_name": "Python 3 (ipykernel)",
   "language": "python",
   "name": "python3"
  },
  "language_info": {
   "codemirror_mode": {
    "name": "ipython",
    "version": 3
   },
   "file_extension": ".py",
   "mimetype": "text/x-python",
   "name": "python",
   "nbconvert_exporter": "python",
   "pygments_lexer": "ipython3",
   "version": "3.12.7"
  }
 },
 "nbformat": 4,
 "nbformat_minor": 5
}
