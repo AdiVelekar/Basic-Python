{
 "cells": [
  {
   "cell_type": "code",
   "execution_count": 2,
   "id": "7d883d6d-a399-4389-9cfa-d8b9753fff16",
   "metadata": {},
   "outputs": [],
   "source": [
    "mix_data = (1,2,3,(10.5,10+5j,),True,'hello')"
   ]
  },
  {
   "cell_type": "code",
   "execution_count": 6,
   "id": "73089dbd-bc8e-449d-b29d-9a7b4565bba0",
   "metadata": {},
   "outputs": [
    {
     "data": {
      "text/plain": [
       "(1, 2, 3, (10.5, (10+5j)), True, 'hello')"
      ]
     },
     "execution_count": 6,
     "metadata": {},
     "output_type": "execute_result"
    }
   ],
   "source": [
    "mix_data"
   ]
  },
  {
   "cell_type": "code",
   "execution_count": 8,
   "id": "6c9768b0-4cad-44e5-a386-9ccebe632ea3",
   "metadata": {},
   "outputs": [
    {
     "data": {
      "text/plain": [
       "tuple"
      ]
     },
     "execution_count": 8,
     "metadata": {},
     "output_type": "execute_result"
    }
   ],
   "source": [
    "type(mix_data)"
   ]
  },
  {
   "cell_type": "code",
   "execution_count": 10,
   "id": "f288d478-c243-41fe-a7de-857ce81b5d86",
   "metadata": {},
   "outputs": [
    {
     "data": {
      "text/plain": [
       "(1, 2, 3)"
      ]
     },
     "execution_count": 10,
     "metadata": {},
     "output_type": "execute_result"
    }
   ],
   "source": [
    "mix_data[0:3] #If i have to use filter operation mainly we are going to use [] bracket."
   ]
  },
  {
   "cell_type": "code",
   "execution_count": 12,
   "id": "bb916d92-bf6b-4d36-8603-36174f12f3ce",
   "metadata": {},
   "outputs": [],
   "source": [
    "#concatination operation b/w two tuples."
   ]
  },
  {
   "cell_type": "code",
   "execution_count": 14,
   "id": "ba38626c-9457-45c0-b367-6be8b74c4edb",
   "metadata": {},
   "outputs": [],
   "source": [
    "a = (10,20,30)"
   ]
  },
  {
   "cell_type": "code",
   "execution_count": 16,
   "id": "2baec7f9-42e5-4dd3-a017-7b7541e2e8b5",
   "metadata": {},
   "outputs": [],
   "source": [
    "b = ('hello','python')"
   ]
  },
  {
   "cell_type": "code",
   "execution_count": 18,
   "id": "d4e480b0-bc14-4849-9e55-d4edbe592ff2",
   "metadata": {},
   "outputs": [
    {
     "data": {
      "text/plain": [
       "(10, 20, 30, 'hello', 'python')"
      ]
     },
     "execution_count": 18,
     "metadata": {},
     "output_type": "execute_result"
    }
   ],
   "source": [
    "a+b"
   ]
  },
  {
   "cell_type": "code",
   "execution_count": 20,
   "id": "6f61cc58-6422-4748-a1e8-871035639140",
   "metadata": {},
   "outputs": [],
   "source": [
    "result = a+b"
   ]
  },
  {
   "cell_type": "code",
   "execution_count": 22,
   "id": "1d603a6d-ced1-4895-92ba-7037c026072f",
   "metadata": {},
   "outputs": [
    {
     "data": {
      "text/plain": [
       "(10, 20, 30, 'hello', 'python')"
      ]
     },
     "execution_count": 22,
     "metadata": {},
     "output_type": "execute_result"
    }
   ],
   "source": [
    "result"
   ]
  },
  {
   "cell_type": "code",
   "execution_count": 24,
   "id": "278ed988-4c09-43e3-8ffe-4a3619b58205",
   "metadata": {},
   "outputs": [
    {
     "data": {
      "text/plain": [
       "(10, 20, 30, 10, 20, 30, 10, 20, 30)"
      ]
     },
     "execution_count": 24,
     "metadata": {},
     "output_type": "execute_result"
    }
   ],
   "source": [
    "a*3"
   ]
  },
  {
   "cell_type": "code",
   "execution_count": 26,
   "id": "3552e988-4f3f-47f6-8ead-3afc7477a041",
   "metadata": {},
   "outputs": [],
   "source": [
    "#Not possiable in tuple immutable"
   ]
  },
  {
   "cell_type": "code",
   "execution_count": 28,
   "id": "086f633a-ae65-4bb4-a143-19e8df2b932f",
   "metadata": {},
   "outputs": [
    {
     "data": {
      "text/plain": [
       "(10, 20, 30)"
      ]
     },
     "execution_count": 28,
     "metadata": {},
     "output_type": "execute_result"
    }
   ],
   "source": [
    "a"
   ]
  },
  {
   "cell_type": "code",
   "execution_count": 30,
   "id": "90651984-1b89-4405-bb8e-82044917f6fb",
   "metadata": {},
   "outputs": [
    {
     "data": {
      "text/plain": [
       "20"
      ]
     },
     "execution_count": 30,
     "metadata": {},
     "output_type": "execute_result"
    }
   ],
   "source": [
    "a[1]"
   ]
  },
  {
   "cell_type": "code",
   "execution_count": 32,
   "id": "1065240f-76fd-4cb9-aacf-b5ac4b85f3bb",
   "metadata": {},
   "outputs": [],
   "source": [
    "# If we have change / update tuple"
   ]
  },
  {
   "cell_type": "code",
   "execution_count": 34,
   "id": "550f3d57-f69a-41cc-967c-748b3068af5a",
   "metadata": {},
   "outputs": [],
   "source": [
    "a=list(a)"
   ]
  },
  {
   "cell_type": "code",
   "execution_count": 36,
   "id": "5822b381-5596-410e-b29e-7fe79c7c7f29",
   "metadata": {},
   "outputs": [],
   "source": [
    "a[1]=100"
   ]
  },
  {
   "cell_type": "code",
   "execution_count": 38,
   "id": "39e7f774-38e8-4369-9daa-5156ea751122",
   "metadata": {},
   "outputs": [
    {
     "data": {
      "text/plain": [
       "[10, 100, 30]"
      ]
     },
     "execution_count": 38,
     "metadata": {},
     "output_type": "execute_result"
    }
   ],
   "source": [
    "a"
   ]
  },
  {
   "cell_type": "code",
   "execution_count": 40,
   "id": "bef5c437-f79d-42ba-b46c-3b788ec82a56",
   "metadata": {},
   "outputs": [],
   "source": [
    "a = tuple(a)"
   ]
  },
  {
   "cell_type": "code",
   "execution_count": 42,
   "id": "bff49fb7-2aea-49d2-8d2d-81f65cc6b421",
   "metadata": {},
   "outputs": [
    {
     "data": {
      "text/plain": [
       "(10, 100, 30)"
      ]
     },
     "execution_count": 42,
     "metadata": {},
     "output_type": "execute_result"
    }
   ],
   "source": [
    "a"
   ]
  },
  {
   "cell_type": "code",
   "execution_count": 44,
   "id": "d77fcdaf-c8da-4352-b40b-aaddd61e90f0",
   "metadata": {},
   "outputs": [
    {
     "data": {
      "text/plain": [
       "2"
      ]
     },
     "execution_count": 44,
     "metadata": {},
     "output_type": "execute_result"
    }
   ],
   "source": [
    "mix_data[1]"
   ]
  },
  {
   "cell_type": "code",
   "execution_count": 46,
   "id": "52fb328e-342e-4b25-a76c-39a4edf3682c",
   "metadata": {},
   "outputs": [],
   "source": [
    "mix_data=list(mix_data)"
   ]
  },
  {
   "cell_type": "code",
   "execution_count": 48,
   "id": "8b4e27ff-ec43-4298-8506-eacfd76e56a6",
   "metadata": {},
   "outputs": [
    {
     "data": {
      "text/plain": [
       "[1, 2, 3, (10.5, (10+5j)), True, 'hello']"
      ]
     },
     "execution_count": 48,
     "metadata": {},
     "output_type": "execute_result"
    }
   ],
   "source": [
    "mix_data"
   ]
  },
  {
   "cell_type": "code",
   "execution_count": 52,
   "id": "bde6e1dc-85c8-41aa-8dbc-5a5f873b5cd8",
   "metadata": {},
   "outputs": [],
   "source": [
    "mix_data[1]=200"
   ]
  },
  {
   "cell_type": "code",
   "execution_count": 54,
   "id": "98e724b2-cf2e-4932-9f8d-53471be794e6",
   "metadata": {},
   "outputs": [
    {
     "data": {
      "text/plain": [
       "[1, 200, 3, (10.5, (10+5j)), True, 'hello']"
      ]
     },
     "execution_count": 54,
     "metadata": {},
     "output_type": "execute_result"
    }
   ],
   "source": [
    "mix_data"
   ]
  },
  {
   "cell_type": "code",
   "execution_count": 56,
   "id": "3b59a072-3624-44c5-a247-7baf73634b44",
   "metadata": {},
   "outputs": [],
   "source": [
    "mix_data =list(mix_data)"
   ]
  },
  {
   "cell_type": "code",
   "execution_count": 58,
   "id": "8b68bae8-7782-42db-b887-db8e7bc8b73f",
   "metadata": {},
   "outputs": [
    {
     "data": {
      "text/plain": [
       "[1, 200, 3, (10.5, (10+5j)), True, 'hello']"
      ]
     },
     "execution_count": 58,
     "metadata": {},
     "output_type": "execute_result"
    }
   ],
   "source": [
    "mix_data"
   ]
  },
  {
   "cell_type": "code",
   "execution_count": 60,
   "id": "f2957392-7e4b-40c5-9034-d8ea95f8c398",
   "metadata": {},
   "outputs": [],
   "source": [
    "# Tuple --> list --> change --> tuple"
   ]
  },
  {
   "cell_type": "markdown",
   "id": "048281d0-c754-428b-8ca8-b31a97d77bab",
   "metadata": {},
   "source": [
    "# Set"
   ]
  },
  {
   "cell_type": "code",
   "execution_count": 63,
   "id": "7c421994-0ea8-4a38-96a5-2dbe8e962eb6",
   "metadata": {},
   "outputs": [],
   "source": [
    "a = {1,2,3,4}"
   ]
  },
  {
   "cell_type": "code",
   "execution_count": 65,
   "id": "d41636b6-18af-4b42-815c-285e2af4fff3",
   "metadata": {},
   "outputs": [
    {
     "data": {
      "text/plain": [
       "set"
      ]
     },
     "execution_count": 65,
     "metadata": {},
     "output_type": "execute_result"
    }
   ],
   "source": [
    "type(a)"
   ]
  },
  {
   "cell_type": "code",
   "execution_count": 67,
   "id": "ec886b94-3fe5-48c3-bab4-7191f2e921e2",
   "metadata": {},
   "outputs": [],
   "source": [
    "b = {1,1,1,2,2,2,3,3,3}"
   ]
  },
  {
   "cell_type": "code",
   "execution_count": 69,
   "id": "8550a8e0-0b8b-4a65-8766-25d7af13b851",
   "metadata": {},
   "outputs": [
    {
     "data": {
      "text/plain": [
       "{1, 2, 3}"
      ]
     },
     "execution_count": 69,
     "metadata": {},
     "output_type": "execute_result"
    }
   ],
   "source": [
    "b"
   ]
  },
  {
   "cell_type": "code",
   "execution_count": 71,
   "id": "c90e3ab0-0505-4383-8d08-a686cef97e7a",
   "metadata": {},
   "outputs": [],
   "source": [
    "# Add and remove elements "
   ]
  },
  {
   "cell_type": "code",
   "execution_count": 73,
   "id": "f94ba3e7-c940-44fb-baea-98bd60e304c5",
   "metadata": {},
   "outputs": [
    {
     "data": {
      "text/plain": [
       "{1, 2, 3}"
      ]
     },
     "execution_count": 73,
     "metadata": {},
     "output_type": "execute_result"
    }
   ],
   "source": [
    "b"
   ]
  },
  {
   "cell_type": "code",
   "execution_count": 75,
   "id": "a3e04996-4568-4bbf-b7f9-312c30310003",
   "metadata": {},
   "outputs": [],
   "source": [
    "b.add(10)"
   ]
  },
  {
   "cell_type": "code",
   "execution_count": 77,
   "id": "d62fa36d-867d-483d-bfb4-24e2ba7509f4",
   "metadata": {},
   "outputs": [
    {
     "data": {
      "text/plain": [
       "{1, 2, 3, 10}"
      ]
     },
     "execution_count": 77,
     "metadata": {},
     "output_type": "execute_result"
    }
   ],
   "source": [
    "b"
   ]
  },
  {
   "cell_type": "code",
   "execution_count": 79,
   "id": "5ea3705b-b89f-49db-9cc3-6688d6759f90",
   "metadata": {},
   "outputs": [],
   "source": [
    "b.remove(10)"
   ]
  },
  {
   "cell_type": "code",
   "execution_count": 81,
   "id": "e99dd656-dbd6-4598-84d5-7c321a34f0eb",
   "metadata": {},
   "outputs": [
    {
     "data": {
      "text/plain": [
       "{1, 2, 3}"
      ]
     },
     "execution_count": 81,
     "metadata": {},
     "output_type": "execute_result"
    }
   ],
   "source": [
    "b"
   ]
  },
  {
   "cell_type": "code",
   "execution_count": 83,
   "id": "09b8a6ea-dde2-4672-8b2d-199c2ea5967f",
   "metadata": {},
   "outputs": [
    {
     "data": {
      "text/plain": [
       "1"
      ]
     },
     "execution_count": 83,
     "metadata": {},
     "output_type": "execute_result"
    }
   ],
   "source": [
    "b.pop()"
   ]
  },
  {
   "cell_type": "code",
   "execution_count": 85,
   "id": "152ec4c4-be16-4e1a-b4d5-4e3ec0123712",
   "metadata": {},
   "outputs": [
    {
     "data": {
      "text/plain": [
       "{2, 3}"
      ]
     },
     "execution_count": 85,
     "metadata": {},
     "output_type": "execute_result"
    }
   ],
   "source": [
    "b"
   ]
  },
  {
   "cell_type": "code",
   "execution_count": 87,
   "id": "463a178c-fe43-43fb-9b92-ac0f22454877",
   "metadata": {},
   "outputs": [],
   "source": [
    "set_1 = {1,2,3,4,5,6}"
   ]
  },
  {
   "cell_type": "code",
   "execution_count": 89,
   "id": "6e61314b-f7b5-4052-aa5f-500f5c8e1760",
   "metadata": {},
   "outputs": [],
   "source": [
    "set_2 = {4,5,6,7,8,9}"
   ]
  },
  {
   "cell_type": "code",
   "execution_count": 91,
   "id": "07890281-d8ed-49a8-826d-559259f34eb8",
   "metadata": {},
   "outputs": [],
   "source": [
    "# union"
   ]
  },
  {
   "cell_type": "code",
   "execution_count": 93,
   "id": "33134b1b-ed62-4183-addd-244962d4a0f7",
   "metadata": {},
   "outputs": [
    {
     "data": {
      "text/plain": [
       "{1, 2, 3, 4, 5, 6, 7, 8, 9}"
      ]
     },
     "execution_count": 93,
     "metadata": {},
     "output_type": "execute_result"
    }
   ],
   "source": [
    "set_1.union(set_2) # union remove the commom data"
   ]
  },
  {
   "cell_type": "code",
   "execution_count": 95,
   "id": "9bb8f95b-ba70-4880-ad87-56b4fe7a774d",
   "metadata": {},
   "outputs": [],
   "source": [
    "# Intersection"
   ]
  },
  {
   "cell_type": "code",
   "execution_count": 13,
   "id": "600fd090-454a-4be9-936b-a8e304d414c1",
   "metadata": {},
   "outputs": [],
   "source": [
    "set_1 = {1,2,3,4,5,6}\n",
    "set_2 = {4,5,6,7,8,9}"
   ]
  },
  {
   "cell_type": "code",
   "execution_count": 15,
   "id": "2c4f7df3-3ef7-4733-bf3f-16d51ffd93ab",
   "metadata": {},
   "outputs": [
    {
     "data": {
      "text/plain": [
       "{4, 5, 6}"
      ]
     },
     "execution_count": 15,
     "metadata": {},
     "output_type": "execute_result"
    }
   ],
   "source": [
    "set_1.intersection(set_2)"
   ]
  },
  {
   "cell_type": "code",
   "execution_count": 17,
   "id": "7b6aa43a-79f5-4a84-91d7-030df744bcd1",
   "metadata": {},
   "outputs": [
    {
     "data": {
      "text/plain": [
       "{1, 2, 3}"
      ]
     },
     "execution_count": 17,
     "metadata": {},
     "output_type": "execute_result"
    }
   ],
   "source": [
    "set_1.difference(set_2)"
   ]
  },
  {
   "cell_type": "code",
   "execution_count": 19,
   "id": "6f25abf2-b99c-4ce3-8d69-87990ebdd545",
   "metadata": {},
   "outputs": [
    {
     "data": {
      "text/plain": [
       "{7, 8, 9}"
      ]
     },
     "execution_count": 19,
     "metadata": {},
     "output_type": "execute_result"
    }
   ],
   "source": [
    "set_2.difference(set_1)"
   ]
  },
  {
   "cell_type": "code",
   "execution_count": 25,
   "id": "d16133a7-8510-40c3-8f0e-2c85fcc65454",
   "metadata": {},
   "outputs": [],
   "source": [
    "# symmetric values"
   ]
  },
  {
   "cell_type": "code",
   "execution_count": 30,
   "id": "89bd5984-cb94-44c5-bfa1-06bc7e6f9ce5",
   "metadata": {},
   "outputs": [
    {
     "data": {
      "text/plain": [
       "{1, 2, 3, 7, 8, 9}"
      ]
     },
     "execution_count": 30,
     "metadata": {},
     "output_type": "execute_result"
    }
   ],
   "source": [
    "set_1.symmetric_difference(set_2)"
   ]
  },
  {
   "cell_type": "markdown",
   "id": "38f3c809-37e5-4a6b-9e53-620e58c1fb37",
   "metadata": {},
   "source": [
    "# Dictionary"
   ]
  },
  {
   "cell_type": "code",
   "execution_count": 33,
   "id": "64f61be6-2c78-4e95-9097-294b70c8fa20",
   "metadata": {},
   "outputs": [],
   "source": [
    "Student={'name':'Rahul','age':22,'class':2}"
   ]
  },
  {
   "cell_type": "code",
   "execution_count": 35,
   "id": "09713480-1f16-4516-b2e9-3fb1cff3bdad",
   "metadata": {},
   "outputs": [
    {
     "data": {
      "text/plain": [
       "dict_values(['Rahul', 22, 2])"
      ]
     },
     "execution_count": 35,
     "metadata": {},
     "output_type": "execute_result"
    }
   ],
   "source": [
    "Student.values()"
   ]
  },
  {
   "cell_type": "code",
   "execution_count": 37,
   "id": "48a0006f-c695-4b91-a28d-a7e145327d42",
   "metadata": {},
   "outputs": [],
   "source": [
    "# Filter operation in dict"
   ]
  },
  {
   "cell_type": "code",
   "execution_count": 39,
   "id": "1d055a5d-efea-4ff6-b755-7276ca4fde7f",
   "metadata": {},
   "outputs": [
    {
     "data": {
      "text/plain": [
       "'Rahul'"
      ]
     },
     "execution_count": 39,
     "metadata": {},
     "output_type": "execute_result"
    }
   ],
   "source": [
    "Student['name']"
   ]
  },
  {
   "cell_type": "code",
   "execution_count": 43,
   "id": "8fad4113-212b-4c70-ae16-01c43c9c5825",
   "metadata": {},
   "outputs": [
    {
     "data": {
      "text/plain": [
       "22"
      ]
     },
     "execution_count": 43,
     "metadata": {},
     "output_type": "execute_result"
    }
   ],
   "source": [
    "Student['age']"
   ]
  },
  {
   "cell_type": "code",
   "execution_count": 45,
   "id": "eee4a53b-c36b-4ee2-a373-51d99ad5c9c3",
   "metadata": {},
   "outputs": [
    {
     "data": {
      "text/plain": [
       "2"
      ]
     },
     "execution_count": 45,
     "metadata": {},
     "output_type": "execute_result"
    }
   ],
   "source": [
    "Student['class']"
   ]
  },
  {
   "cell_type": "code",
   "execution_count": 47,
   "id": "aa9f6d25-4b62-4d65-a6c5-fa340727d046",
   "metadata": {},
   "outputs": [],
   "source": [
    "# Accessing value using GET"
   ]
  },
  {
   "cell_type": "code",
   "execution_count": 49,
   "id": "bd0e02df-8aeb-423c-9481-5d7fd23774dd",
   "metadata": {},
   "outputs": [
    {
     "data": {
      "text/plain": [
       "22"
      ]
     },
     "execution_count": 49,
     "metadata": {},
     "output_type": "execute_result"
    }
   ],
   "source": [
    "Student.get('age')"
   ]
  },
  {
   "cell_type": "code",
   "execution_count": 51,
   "id": "04b5dad4-82ff-43e5-a9bc-3bc0b0df7f74",
   "metadata": {},
   "outputs": [
    {
     "data": {
      "text/plain": [
       "2"
      ]
     },
     "execution_count": 51,
     "metadata": {},
     "output_type": "execute_result"
    }
   ],
   "source": [
    "Student.get('class')"
   ]
  },
  {
   "cell_type": "code",
   "execution_count": 53,
   "id": "2829e70e-ddac-44de-a0c9-313c889d7ea0",
   "metadata": {},
   "outputs": [
    {
     "data": {
      "text/plain": [
       "'Rahul'"
      ]
     },
     "execution_count": 53,
     "metadata": {},
     "output_type": "execute_result"
    }
   ],
   "source": [
    "Student.get('name')"
   ]
  },
  {
   "cell_type": "code",
   "execution_count": 55,
   "id": "d89b8f99-1c48-4db9-b96f-b8071122627a",
   "metadata": {},
   "outputs": [],
   "source": [
    "# Update dict"
   ]
  },
  {
   "cell_type": "code",
   "execution_count": 57,
   "id": "b28625df-b2c2-44d6-8c3f-1703eaf5784d",
   "metadata": {},
   "outputs": [],
   "source": [
    "Student['age']=23"
   ]
  },
  {
   "cell_type": "code",
   "execution_count": 59,
   "id": "69f4e5f5-185c-41da-aadf-375388394831",
   "metadata": {},
   "outputs": [
    {
     "data": {
      "text/plain": [
       "{'name': 'Rahul', 'age': 23, 'class': 2}"
      ]
     },
     "execution_count": 59,
     "metadata": {},
     "output_type": "execute_result"
    }
   ],
   "source": [
    "Student"
   ]
  },
  {
   "cell_type": "code",
   "execution_count": 61,
   "id": "8f973ca0-3367-40a4-95d3-576fdf3f2abe",
   "metadata": {},
   "outputs": [],
   "source": [
    "mix_dict = {'A':[1,2,3,4,5],'B':(10,20,30),'c':{1,2,3,4,5,6}}"
   ]
  },
  {
   "cell_type": "code",
   "execution_count": 63,
   "id": "8c3bec0b-d3d6-4620-8066-c82649c857c3",
   "metadata": {},
   "outputs": [
    {
     "data": {
      "text/plain": [
       "{'A': [1, 2, 3, 4, 5], 'B': (10, 20, 30), 'c': {1, 2, 3, 4, 5, 6}}"
      ]
     },
     "execution_count": 63,
     "metadata": {},
     "output_type": "execute_result"
    }
   ],
   "source": [
    "mix_dict"
   ]
  },
  {
   "cell_type": "code",
   "execution_count": null,
   "id": "1d5f9d45-5b22-41d6-991a-173ce5d12b11",
   "metadata": {},
   "outputs": [],
   "source": []
  }
 ],
 "metadata": {
  "kernelspec": {
   "display_name": "Python 3 (ipykernel)",
   "language": "python",
   "name": "python3"
  },
  "language_info": {
   "codemirror_mode": {
    "name": "ipython",
    "version": 3
   },
   "file_extension": ".py",
   "mimetype": "text/x-python",
   "name": "python",
   "nbconvert_exporter": "python",
   "pygments_lexer": "ipython3",
   "version": "3.12.7"
  }
 },
 "nbformat": 4,
 "nbformat_minor": 5
}
