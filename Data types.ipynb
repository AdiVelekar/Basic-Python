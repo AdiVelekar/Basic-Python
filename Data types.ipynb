{
 "cells": [
  {
   "cell_type": "markdown",
   "id": "88231c10-d165-4188-b922-1daf76f65578",
   "metadata": {},
   "source": [
    "# Data type\n"
   ]
  },
  {
   "cell_type": "markdown",
   "id": "3c074a63-d713-4b66-b816-98e067cb013a",
   "metadata": {},
   "source": [
    "1.Integer"
   ]
  },
  {
   "cell_type": "raw",
   "id": "895b9e54-e8df-486d-8c41-5987d6bbfc0a",
   "metadata": {},
   "source": [
    "Integer is complete number.\n",
    "eg. no of familt member.\n",
    "> 2,3,4"
   ]
  },
  {
   "cell_type": "code",
   "execution_count": 7,
   "id": "b7b2ebfb-6415-433d-a167-5475ed3dcdb8",
   "metadata": {},
   "outputs": [
    {
     "data": {
      "text/plain": [
       "10"
      ]
     },
     "execution_count": 7,
     "metadata": {},
     "output_type": "execute_result"
    }
   ],
   "source": [
    "10"
   ]
  },
  {
   "cell_type": "code",
   "execution_count": 9,
   "id": "e69159cb-66bd-4359-a8b0-d6d9f3e0da49",
   "metadata": {},
   "outputs": [
    {
     "data": {
      "text/plain": [
       "int"
      ]
     },
     "execution_count": 9,
     "metadata": {},
     "output_type": "execute_result"
    }
   ],
   "source": [
    "type(10)"
   ]
  },
  {
   "cell_type": "code",
   "execution_count": 13,
   "id": "ba389fa6-2c16-4589-a500-622e29853625",
   "metadata": {},
   "outputs": [
    {
     "data": {
      "text/plain": [
       "int"
      ]
     },
     "execution_count": 13,
     "metadata": {},
     "output_type": "execute_result"
    }
   ],
   "source": [
    "type(20)"
   ]
  },
  {
   "cell_type": "markdown",
   "id": "a1567e31-2d01-4380-8209-ae1c94aa94a5",
   "metadata": {},
   "source": [
    "2.Float"
   ]
  },
  {
   "cell_type": "raw",
   "id": "6b05bf61-5515-4e6a-80bd-3270dcb6a788",
   "metadata": {},
   "source": [
    "values in decimal format\n",
    "eg. hight \n",
    ">6.3"
   ]
  },
  {
   "cell_type": "code",
   "execution_count": 16,
   "id": "60997d31-3837-404f-a112-10b5993b978d",
   "metadata": {},
   "outputs": [
    {
     "data": {
      "text/plain": [
       "6.3"
      ]
     },
     "execution_count": 16,
     "metadata": {},
     "output_type": "execute_result"
    }
   ],
   "source": [
    "6.3 "
   ]
  },
  {
   "cell_type": "code",
   "execution_count": 18,
   "id": "e893b13c-96e0-4476-8890-530dedbcd601",
   "metadata": {},
   "outputs": [
    {
     "data": {
      "text/plain": [
       "float"
      ]
     },
     "execution_count": 18,
     "metadata": {},
     "output_type": "execute_result"
    }
   ],
   "source": [
    "type(6.3)"
   ]
  },
  {
   "cell_type": "code",
   "execution_count": 20,
   "id": "9fd14d5b-4668-4c03-a899-7008484c6196",
   "metadata": {},
   "outputs": [
    {
     "data": {
      "text/plain": [
       "68.5"
      ]
     },
     "execution_count": 20,
     "metadata": {},
     "output_type": "execute_result"
    }
   ],
   "source": [
    "68.50\n"
   ]
  },
  {
   "cell_type": "code",
   "execution_count": 22,
   "id": "742bd566-1971-41ce-8492-4974777a44d0",
   "metadata": {},
   "outputs": [
    {
     "data": {
      "text/plain": [
       "float"
      ]
     },
     "execution_count": 22,
     "metadata": {},
     "output_type": "execute_result"
    }
   ],
   "source": [
    "type(68.5)"
   ]
  },
  {
   "cell_type": "markdown",
   "id": "517111ed-feaa-4aec-b724-4e22ba1be0ea",
   "metadata": {},
   "source": [
    "3.Complex"
   ]
  },
  {
   "cell_type": "raw",
   "id": "95700974-0272-4d01-8659-b9c76a4fa604",
   "metadata": {},
   "source": [
    "Values in vector\n",
    "eg.10+5j\n"
   ]
  },
  {
   "cell_type": "code",
   "execution_count": 25,
   "id": "19d623a4-fac6-409b-9147-712c5184c5f4",
   "metadata": {},
   "outputs": [
    {
     "data": {
      "text/plain": [
       "(10+5j)"
      ]
     },
     "execution_count": 25,
     "metadata": {},
     "output_type": "execute_result"
    }
   ],
   "source": [
    "10+5j"
   ]
  },
  {
   "cell_type": "code",
   "execution_count": 27,
   "id": "317b0ed2-1835-4053-9fe6-71ddf91c5327",
   "metadata": {},
   "outputs": [
    {
     "data": {
      "text/plain": [
       "complex"
      ]
     },
     "execution_count": 27,
     "metadata": {},
     "output_type": "execute_result"
    }
   ],
   "source": [
    "type(10+5j)"
   ]
  },
  {
   "cell_type": "markdown",
   "id": "7ea7bd79-4d0f-4e01-813c-82aaa09e96fe",
   "metadata": {},
   "source": [
    "4.String"
   ]
  },
  {
   "cell_type": "raw",
   "id": "6fd167d9-bfdf-4e29-bf74-475b2d9ff35a",
   "metadata": {},
   "source": [
    "Words and sentences.\n",
    "Rule1 --> ' ' or \" \"\n",
    "Rule2 -->\"\"\"    \"\"\" for sentences"
   ]
  },
  {
   "cell_type": "code",
   "execution_count": 30,
   "id": "4fe1d842-b3db-4cd2-a803-92bf95579347",
   "metadata": {},
   "outputs": [
    {
     "data": {
      "text/plain": [
       "'Hello python'"
      ]
     },
     "execution_count": 30,
     "metadata": {},
     "output_type": "execute_result"
    }
   ],
   "source": [
    "'Hello python'"
   ]
  },
  {
   "cell_type": "code",
   "execution_count": 34,
   "id": "353ef959-a614-4ac9-90ff-5e1e9feced92",
   "metadata": {},
   "outputs": [
    {
     "name": "stdout",
     "output_type": "stream",
     "text": [
      "Rahul Velekar\n"
     ]
    }
   ],
   "source": [
    "print(\"Rahul Velekar\")"
   ]
  },
  {
   "cell_type": "code",
   "execution_count": 36,
   "id": "3cbdbc84-7100-4638-b6c6-50c2a88c2e4c",
   "metadata": {},
   "outputs": [
    {
     "data": {
      "text/plain": [
       "str"
      ]
     },
     "execution_count": 36,
     "metadata": {},
     "output_type": "execute_result"
    }
   ],
   "source": [
    "type(\"Rahul Velekar\")"
   ]
  },
  {
   "cell_type": "markdown",
   "id": "89bad6c1-2df2-46d9-b3ea-f6ad18c96fbe",
   "metadata": {},
   "source": [
    "Boolean"
   ]
  },
  {
   "cell_type": "raw",
   "id": "4f8efb4e-a983-4412-baff-ac0e9fd57fbd",
   "metadata": {},
   "source": [
    "True or False"
   ]
  },
  {
   "cell_type": "code",
   "execution_count": 39,
   "id": "17c8741f-aaa4-41e7-9ced-f0d6d668aa1a",
   "metadata": {},
   "outputs": [
    {
     "data": {
      "text/plain": [
       "False"
      ]
     },
     "execution_count": 39,
     "metadata": {},
     "output_type": "execute_result"
    }
   ],
   "source": [
    "10 > 20"
   ]
  },
  {
   "cell_type": "code",
   "execution_count": 41,
   "id": "dbc2614c-f2f3-4b19-8ca4-e5310694d92b",
   "metadata": {},
   "outputs": [
    {
     "data": {
      "text/plain": [
       "True"
      ]
     },
     "execution_count": 41,
     "metadata": {},
     "output_type": "execute_result"
    }
   ],
   "source": [
    "10 < 20"
   ]
  },
  {
   "cell_type": "code",
   "execution_count": 45,
   "id": "acc014d9-3482-4ff6-88a7-e9dca655ac51",
   "metadata": {},
   "outputs": [
    {
     "data": {
      "text/plain": [
       "bool"
      ]
     },
     "execution_count": 45,
     "metadata": {},
     "output_type": "execute_result"
    }
   ],
   "source": [
    "type(True)"
   ]
  },
  {
   "cell_type": "code",
   "execution_count": null,
   "id": "88e66310-9335-4a9b-9e73-e66cdbacba52",
   "metadata": {},
   "outputs": [],
   "source": []
  }
 ],
 "metadata": {
  "kernelspec": {
   "display_name": "Python 3 (ipykernel)",
   "language": "python",
   "name": "python3"
  },
  "language_info": {
   "codemirror_mode": {
    "name": "ipython",
    "version": 3
   },
   "file_extension": ".py",
   "mimetype": "text/x-python",
   "name": "python",
   "nbconvert_exporter": "python",
   "pygments_lexer": "ipython3",
   "version": "3.12.7"
  }
 },
 "nbformat": 4,
 "nbformat_minor": 5
}
