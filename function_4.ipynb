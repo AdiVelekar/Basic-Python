{
 "cells": [
  {
   "cell_type": "markdown",
   "id": "cd98b256-e89d-4948-b16b-0459944a42bf",
   "metadata": {},
   "source": [
    "# Lamnda function"
   ]
  },
  {
   "cell_type": "code",
   "execution_count": 3,
   "id": "2edb9cb4-6d8f-4713-96a2-7a7543df7caf",
   "metadata": {},
   "outputs": [],
   "source": [
    "f = lambda x:x + 100 #single liner code"
   ]
  },
  {
   "cell_type": "code",
   "execution_count": 5,
   "id": "a2346d0e-bc67-4be3-8910-eb619dd8ec83",
   "metadata": {},
   "outputs": [
    {
     "data": {
      "text/plain": [
       "105"
      ]
     },
     "execution_count": 5,
     "metadata": {},
     "output_type": "execute_result"
    }
   ],
   "source": [
    "f(5)"
   ]
  },
  {
   "cell_type": "code",
   "execution_count": 7,
   "id": "cf1c69bc-a284-4c4b-ba46-97fd6b701bc9",
   "metadata": {},
   "outputs": [],
   "source": [
    "def number_ten(x):\n",
    "    return x + 10"
   ]
  },
  {
   "cell_type": "code",
   "execution_count": 9,
   "id": "ea61f03f-450b-41fd-9514-89526af27702",
   "metadata": {},
   "outputs": [
    {
     "data": {
      "text/plain": [
       "15"
      ]
     },
     "execution_count": 9,
     "metadata": {},
     "output_type": "execute_result"
    }
   ],
   "source": [
    "number_ten(5)"
   ]
  },
  {
   "cell_type": "code",
   "execution_count": 20,
   "id": "8af8793d-eff9-422f-8b4b-d5b3e5bf84d5",
   "metadata": {},
   "outputs": [],
   "source": [
    "# Square of number"
   ]
  },
  {
   "cell_type": "code",
   "execution_count": 23,
   "id": "d8a610ca-f40c-4e84-9ddc-40b2d97b8560",
   "metadata": {},
   "outputs": [],
   "source": [
    "def square_num(x):\n",
    "    return x*x"
   ]
  },
  {
   "cell_type": "code",
   "execution_count": 25,
   "id": "0458a78e-3501-4998-9d01-0ab57679d9c1",
   "metadata": {},
   "outputs": [
    {
     "data": {
      "text/plain": [
       "4"
      ]
     },
     "execution_count": 25,
     "metadata": {},
     "output_type": "execute_result"
    }
   ],
   "source": [
    "square_num(2)"
   ]
  },
  {
   "cell_type": "code",
   "execution_count": 27,
   "id": "26f070a8-bbf6-4cdf-9669-d60f54b8a7f9",
   "metadata": {},
   "outputs": [],
   "source": [
    "sn = lambda x:x * x "
   ]
  },
  {
   "cell_type": "code",
   "execution_count": 29,
   "id": "4d6db2a6-14f3-4964-86f9-37d30aae136f",
   "metadata": {},
   "outputs": [
    {
     "data": {
      "text/plain": [
       "9"
      ]
     },
     "execution_count": 29,
     "metadata": {},
     "output_type": "execute_result"
    }
   ],
   "source": [
    "sn(3)"
   ]
  },
  {
   "cell_type": "code",
   "execution_count": 31,
   "id": "c2c15497-0ef2-4ea0-b9c7-546305ae26e6",
   "metadata": {},
   "outputs": [],
   "source": [
    "# Addition of two numbers"
   ]
  },
  {
   "cell_type": "code",
   "execution_count": 33,
   "id": "c285611f-af39-4d24-91bb-e923125e6aec",
   "metadata": {},
   "outputs": [],
   "source": [
    "test1 = lambda a,b : a + b"
   ]
  },
  {
   "cell_type": "code",
   "execution_count": 35,
   "id": "5eb18634-3ebd-4182-aa4c-3d4736d0f3bc",
   "metadata": {},
   "outputs": [
    {
     "data": {
      "text/plain": [
       "15"
      ]
     },
     "execution_count": 35,
     "metadata": {},
     "output_type": "execute_result"
    }
   ],
   "source": [
    "test1(10,5)"
   ]
  },
  {
   "cell_type": "code",
   "execution_count": 37,
   "id": "e4fef7c1-9d81-4d43-82d2-1899f528e7d0",
   "metadata": {},
   "outputs": [],
   "source": [
    "# Devide it and multiply it"
   ]
  },
  {
   "cell_type": "code",
   "execution_count": 39,
   "id": "685511d7-5685-4865-8a08-8329540ed66d",
   "metadata": {},
   "outputs": [],
   "source": [
    "test2 = lambda a,b : (a*b , a/b)"
   ]
  },
  {
   "cell_type": "code",
   "execution_count": 41,
   "id": "03a89c30-f794-4719-95a2-18a9af16f077",
   "metadata": {},
   "outputs": [
    {
     "data": {
      "text/plain": [
       "(6, 1.5)"
      ]
     },
     "execution_count": 41,
     "metadata": {},
     "output_type": "execute_result"
    }
   ],
   "source": [
    "test2 (3,2)"
   ]
  },
  {
   "cell_type": "code",
   "execution_count": 43,
   "id": "3115d1f8-dc27-4058-b451-40d76fdf2def",
   "metadata": {},
   "outputs": [],
   "source": [
    "# List comprehensions"
   ]
  },
  {
   "cell_type": "code",
   "execution_count": 45,
   "id": "2fc0c4ea-21aa-4176-9132-4a822279ae0b",
   "metadata": {},
   "outputs": [],
   "source": [
    "l = [1,2,3,4]"
   ]
  },
  {
   "cell_type": "code",
   "execution_count": 47,
   "id": "ca8e73f0-6e56-40b9-9ab4-df2d8e2715e2",
   "metadata": {},
   "outputs": [
    {
     "name": "stdout",
     "output_type": "stream",
     "text": [
      "1\n",
      "2\n",
      "3\n",
      "4\n"
     ]
    }
   ],
   "source": [
    "for i in l:\n",
    "    print(i)"
   ]
  },
  {
   "cell_type": "code",
   "execution_count": 49,
   "id": "3ce21d2d-f5b0-4d2f-b0ed-71e56517e319",
   "metadata": {},
   "outputs": [
    {
     "data": {
      "text/plain": [
       "[1, 2, 3, 4]"
      ]
     },
     "execution_count": 49,
     "metadata": {},
     "output_type": "execute_result"
    }
   ],
   "source": [
    "[ i for i in l]"
   ]
  },
  {
   "cell_type": "code",
   "execution_count": 53,
   "id": "70486b2f-9485-42be-97e3-bf4b66ce4ce2",
   "metadata": {},
   "outputs": [
    {
     "data": {
      "text/plain": [
       "[11, 12, 13, 14]"
      ]
     },
     "execution_count": 53,
     "metadata": {},
     "output_type": "execute_result"
    }
   ],
   "source": [
    "[i + 10 for i in l]"
   ]
  },
  {
   "cell_type": "code",
   "execution_count": 55,
   "id": "e27ad5b8-3437-49c2-8c0f-07afd0582a82",
   "metadata": {},
   "outputs": [],
   "source": [
    "# [output for item in iterable]\n",
    "# [output + 10 for item in iterable]"
   ]
  },
  {
   "cell_type": "code",
   "execution_count": 57,
   "id": "40814374-f893-4f5f-97c0-bb80be7ef549",
   "metadata": {},
   "outputs": [
    {
     "data": {
      "text/plain": [
       "[0, 1, 2, 3, 4]"
      ]
     },
     "execution_count": 57,
     "metadata": {},
     "output_type": "execute_result"
    }
   ],
   "source": [
    "[ i for i in range(5)]"
   ]
  },
  {
   "cell_type": "code",
   "execution_count": 59,
   "id": "fc06a33b-cf44-4106-aa38-a87884bad695",
   "metadata": {},
   "outputs": [
    {
     "data": {
      "text/plain": [
       "[1, 4, 9, 16, 25, 36, 49, 64, 81, 100]"
      ]
     },
     "execution_count": 59,
     "metadata": {},
     "output_type": "execute_result"
    }
   ],
   "source": [
    "[ i * i for i in range (1,11)]"
   ]
  },
  {
   "cell_type": "code",
   "execution_count": 62,
   "id": "baba3672-f24a-4233-8f29-069a13672abe",
   "metadata": {},
   "outputs": [
    {
     "name": "stdout",
     "output_type": "stream",
     "text": [
      "2\n",
      "4\n",
      "6\n",
      "8\n",
      "10\n",
      "12\n",
      "14\n",
      "16\n",
      "18\n",
      "20\n"
     ]
    }
   ],
   "source": [
    "for i in range(1,21):\n",
    "    if i % 2 == 0:\n",
    "        print(i)"
   ]
  },
  {
   "cell_type": "code",
   "execution_count": 64,
   "id": "debac57f-1d15-4673-aa73-06e897488936",
   "metadata": {},
   "outputs": [
    {
     "data": {
      "text/plain": [
       "[2, 4, 6, 8, 10, 12, 14, 16, 18, 20]"
      ]
     },
     "execution_count": 64,
     "metadata": {},
     "output_type": "execute_result"
    }
   ],
   "source": [
    "[i for i in range (1,21)if i % 2==0]"
   ]
  },
  {
   "cell_type": "code",
   "execution_count": 66,
   "id": "9391887f-1c84-474e-9da7-42396bb3a5c1",
   "metadata": {},
   "outputs": [],
   "source": [
    "numbers = [1,-2,-3,-4,5]"
   ]
  },
  {
   "cell_type": "code",
   "execution_count": 68,
   "id": "f2a91fd3-94f3-49a5-950d-4f0dcde34ce7",
   "metadata": {},
   "outputs": [
    {
     "data": {
      "text/plain": [
       "[1, 'negative', 'negative', 'negative', 5]"
      ]
     },
     "execution_count": 68,
     "metadata": {},
     "output_type": "execute_result"
    }
   ],
   "source": [
    "[i if i  > 0 else'negative' for i in numbers ]"
   ]
  },
  {
   "cell_type": "code",
   "execution_count": 70,
   "id": "33c34af7-e3c4-4b03-a329-86fa3e769272",
   "metadata": {},
   "outputs": [],
   "source": [
    "# dictionary com "
   ]
  },
  {
   "cell_type": "code",
   "execution_count": 73,
   "id": "8ff356d8-1bf7-41e2-b1db-fbdc7ca1427c",
   "metadata": {},
   "outputs": [
    {
     "data": {
      "text/plain": [
       "{0: 0, 1: 1, 2: 4, 3: 9, 4: 16}"
      ]
     },
     "execution_count": 73,
     "metadata": {},
     "output_type": "execute_result"
    }
   ],
   "source": [
    "{ i:i*i for i in range(5)}"
   ]
  },
  {
   "cell_type": "code",
   "execution_count": null,
   "id": "c2dd66ab-8acd-4104-ae62-3bbad2162a65",
   "metadata": {},
   "outputs": [],
   "source": []
  }
 ],
 "metadata": {
  "kernelspec": {
   "display_name": "Python 3 (ipykernel)",
   "language": "python",
   "name": "python3"
  },
  "language_info": {
   "codemirror_mode": {
    "name": "ipython",
    "version": 3
   },
   "file_extension": ".py",
   "mimetype": "text/x-python",
   "name": "python",
   "nbconvert_exporter": "python",
   "pygments_lexer": "ipython3",
   "version": "3.12.7"
  }
 },
 "nbformat": 4,
 "nbformat_minor": 5
}
